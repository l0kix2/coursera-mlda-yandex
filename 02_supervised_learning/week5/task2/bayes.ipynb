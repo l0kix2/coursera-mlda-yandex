{
 "cells": [
  {
   "cell_type": "markdown",
   "metadata": {},
   "source": [
    "Загрузите датасеты digits и breast_cancer из sklearn.datasets. Выведите несколько строчек из обучающих выборок и посмотрите на признаки."
   ]
  },
  {
   "cell_type": "code",
   "execution_count": 52,
   "metadata": {},
   "outputs": [
    {
     "name": "stdout",
     "output_type": "stream",
     "text": [
      "[0 1 2 3 4 5 6 7 8 9]\n",
      "[0 1]\n",
      "[[ 0.  0.  5. 13.  9.  1.  0.  0.  0.  0. 13. 15. 10. 15.  5.  0.  0.  3.\n",
      "  15.  2.  0. 11.  8.  0.  0.  4. 12.  0.  0.  8.  8.  0.  0.  5.  8.  0.\n",
      "   0.  9.  8.  0.  0.  4. 11.  0.  1. 12.  7.  0.  0.  2. 14.  5. 10. 12.\n",
      "   0.  0.  0.  0.  6. 13. 10.  0.  0.  0.]\n",
      " [ 0.  0.  0. 12. 13.  5.  0.  0.  0.  0.  0. 11. 16.  9.  0.  0.  0.  0.\n",
      "   3. 15. 16.  6.  0.  0.  0.  7. 15. 16. 16.  2.  0.  0.  0.  0.  1. 16.\n",
      "  16.  3.  0.  0.  0.  0.  1. 16. 16.  6.  0.  0.  0.  0.  1. 16. 16.  6.\n",
      "   0.  0.  0.  0.  0. 11. 16. 10.  0.  0.]]\n",
      "(1797, 64)\n",
      "['malignant' 'benign']\n",
      "[0 0]\n",
      "[[1.799e+01 1.038e+01 1.228e+02 1.001e+03 1.184e-01 2.776e-01 3.001e-01\n",
      "  1.471e-01 2.419e-01 7.871e-02 1.095e+00 9.053e-01 8.589e+00 1.534e+02\n",
      "  6.399e-03 4.904e-02 5.373e-02 1.587e-02 3.003e-02 6.193e-03 2.538e+01\n",
      "  1.733e+01 1.846e+02 2.019e+03 1.622e-01 6.656e-01 7.119e-01 2.654e-01\n",
      "  4.601e-01 1.189e-01]\n",
      " [2.057e+01 1.777e+01 1.329e+02 1.326e+03 8.474e-02 7.864e-02 8.690e-02\n",
      "  7.017e-02 1.812e-01 5.667e-02 5.435e-01 7.339e-01 3.398e+00 7.408e+01\n",
      "  5.225e-03 1.308e-02 1.860e-02 1.340e-02 1.389e-02 3.532e-03 2.499e+01\n",
      "  2.341e+01 1.588e+02 1.956e+03 1.238e-01 1.866e-01 2.416e-01 1.860e-01\n",
      "  2.750e-01 8.902e-02]]\n",
      "(569, 30)\n"
     ]
    }
   ],
   "source": [
    "def write_answer(num, value):\n",
    "    with open(\"answer-%s.txt\" % num, \"w\") as fout:\n",
    "        fout.write(str(value))\n",
    "\n",
    "def write_answers(*values):\n",
    "    for num, value in enumerate(values, start=1):\n",
    "        write_answer(num=num, value=value)\n",
    "\n",
    "import sklearn.datasets\n",
    "\n",
    "digits = sklearn.datasets.load_digits()\n",
    "cancer = sklearn.datasets.load_breast_cancer()\n",
    "\n",
    "DATASETS = {\n",
    "    'digits': digits,\n",
    "    'cancer': cancer,\n",
    "}\n",
    "\n",
    "for ds in (digits, cancer):\n",
    "    print ds.target_names\n",
    "    print ds.target[:2]\n",
    "    print ds.data[:2]\n",
    "    print ds.data.shape"
   ]
  },
  {
   "cell_type": "markdown",
   "metadata": {},
   "source": [
    "С помощью sklearn.cross_validation.cross_val_score c настройками по умолчанию и вызова метода mean() у возвращаемого этой функцией numpy.ndarray, сравните качество работы наивных байесовских классификаторов на этих двух датасетах. Для сравнения предлагается использовать BernoulliNB, MultinomialNB и GaussianNB. Насколько полученные результаты согласуются с рекомендациями из лекций?"
   ]
  },
  {
   "cell_type": "code",
   "execution_count": 46,
   "metadata": {},
   "outputs": [
    {
     "name": "stdout",
     "output_type": "stream",
     "text": [
      "{('cancer', 'BernoulliNB'): 0.6274204028589994,\n",
      " ('cancer', 'GaussianNB'): 0.9367492806089297,\n",
      " ('cancer', 'MultinomialNB'): 0.8945790401930752,\n",
      " ('digits', 'BernoulliNB'): 0.8258236507780582,\n",
      " ('digits', 'GaussianNB'): 0.8186003803550138,\n",
      " ('digits', 'MultinomialNB'): 0.8708771489735053}\n"
     ]
    }
   ],
   "source": [
    "# import numpy as np\n",
    "import sklearn.cross_validation\n",
    "import sklearn.naive_bayes\n",
    "\n",
    "def get_quality(estimator_cls, dataset):\n",
    "    estimator = estimator_cls()\n",
    "    score = sklearn.cross_validation.cross_val_score(\n",
    "        estimator=estimator, \n",
    "        X=dataset.data, \n",
    "        y=dataset.target,\n",
    "    )\n",
    "    return score.mean()\n",
    "\n",
    "ESTIMATORS_CLS_LIST = (\n",
    "    sklearn.naive_bayes.BernoulliNB,\n",
    "    sklearn.naive_bayes.MultinomialNB,\n",
    "    sklearn.naive_bayes.GaussianNB,\n",
    ")\n",
    "\n",
    "ANSWERS = {}\n",
    "for estimator_cls in ESTIMATORS_CLS_LIST:\n",
    "    for ds_name, ds in DATASETS.items():\n",
    "        quality = get_quality(estimator_cls, ds)\n",
    "        ANSWERS[(ds_name, estimator_cls.__name__)] = quality\n",
    "\n",
    "import pprint\n",
    "pprint.pprint(ANSWERS)"
   ]
  },
  {
   "cell_type": "code",
   "execution_count": 50,
   "metadata": {},
   "outputs": [],
   "source": [
    "answer1 = max(value for (ds_name, est_name), value in ANSWERS.items() if ds_name == 'cancer')\n",
    "answer2 = max(value for (ds_name, est_name), value in ANSWERS.items() if ds_name == 'digits')"
   ]
  },
  {
   "cell_type": "markdown",
   "metadata": {},
   "source": [
    "Выберите верные утверждения и запишите их номера через пробел (в порядке возрастания номера):\n",
    "\n",
    "1) На вещественных признаках лучше всего сработал наивный байесовский классификатор с распределением Бернулли\n",
    "\n",
    "2) На вещественных признаках лучше всего сработал наивный байесовский классификатор с мультиномиальным распределением\n",
    "\n",
    "3) Мультиномиальное распределение лучше показало себя на выборке с целыми неотрицательными значениями признаков\n",
    "\n",
    "4) На вещественных признаках лучше всего сработало нормальное распределение"
   ]
  },
  {
   "cell_type": "code",
   "execution_count": 54,
   "metadata": {},
   "outputs": [],
   "source": [
    "answer3 = '3 4'"
   ]
  },
  {
   "cell_type": "code",
   "execution_count": 55,
   "metadata": {},
   "outputs": [],
   "source": [
    "write_answers(\n",
    "    answer1,\n",
    "    answer2,\n",
    "    answer3,\n",
    ")"
   ]
  }
 ],
 "metadata": {
  "kernelspec": {
   "display_name": "Python 2",
   "language": "python",
   "name": "python2"
  },
  "language_info": {
   "codemirror_mode": {
    "name": "ipython",
    "version": 2
   },
   "file_extension": ".py",
   "mimetype": "text/x-python",
   "name": "python",
   "nbconvert_exporter": "python",
   "pygments_lexer": "ipython2",
   "version": "2.7.13"
  }
 },
 "nbformat": 4,
 "nbformat_minor": 2
}
