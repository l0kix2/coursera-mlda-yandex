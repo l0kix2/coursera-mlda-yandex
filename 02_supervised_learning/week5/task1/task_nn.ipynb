{
 "cells": [
  {
   "cell_type": "markdown",
   "metadata": {},
   "source": [
    "## Нейронные сети: зависимость ошибки и обучающей способности от числа нейронов"
   ]
  },
  {
   "cell_type": "markdown",
   "metadata": {},
   "source": [
    "В этом задании вы будете настраивать двуслойную нейронную сеть для решения задачи многоклассовой классификации. Предлагается выполнить процедуры загрузки и разбиения входных данных, обучения сети и подсчета ошибки классификации. Предлагается определить оптимальное количество нейронов в скрытом слое сети. Нужно так подобрать число нейронов, чтобы модель была с одной стороны несложной, а с другой стороны давала бы достаточно точный прогноз и не переобучалась. Цель задания -- показать, как зависит точность и обучающая способность сети от ее сложности."
   ]
  },
  {
   "cell_type": "markdown",
   "metadata": {},
   "source": [
    "Для решения задачи многоклассовой классификации предлагается воспользоваться библиотекой построения нейронных сетей [pybrain](http://pybrain.org/). Библиотека содержит основные модули инициализации двуслойной нейронной сети прямого распространения, оценки ее параметров с помощью метода обратного распространения ошибки (backpropagation) и подсчета ошибки.\n",
    "\n",
    "Установить библиотеку pybrain можно с помощью стандартной системы управления пакетами pip:\n",
    "\n",
    "```\n",
    "pip install pybrain\n",
    "```\n",
    "Кроме того, для установки библиотеки можно использовать и другие способы, приведенные в [документации](https://github.com/pybrain/pybrain/wiki/installation). "
   ]
  },
  {
   "cell_type": "markdown",
   "metadata": {},
   "source": [
    "###  Используемые данные\n",
    "\n",
    "Рассматривается задача оценки качества вина по его физико-химическим свойствам [1]. Данные размещены в [открытом доступе](https://archive.ics.uci.edu/ml/machine-learning-databases/wine-quality/winequality-red.csv) в репозитории UCI  и содержат 1599 образцов красного вина, описанных 11 признаками, среди которых -- кислотность, процентное содержание сахара, алкоголя и пр. Кроме того, каждому объекту поставлена в соответствие оценка качества по шкале от 0 до 10. Требуется восстановить оценку качества вина по исходному признаковому описанию.\n",
    "\n",
    "[1] P. Cortez, A. Cerdeira, F. Almeida, T. Matos and J. Reis. Modeling wine preferences by data mining from physicochemical properties.  In Decision Support Systems, Elsevier, 47(4):547-553, 2009. "
   ]
  },
  {
   "cell_type": "code",
   "execution_count": 102,
   "metadata": {},
   "outputs": [],
   "source": [
    "# Выполним инициализацию основных используемых модулей\n",
    "%matplotlib inline\n",
    "\n",
    "import random\n",
    "import matplotlib.pyplot as plt\n",
    "from sklearn.preprocessing import normalize\n",
    "import numpy as np"
   ]
  },
  {
   "cell_type": "markdown",
   "metadata": {},
   "source": [
    "Выполним загрузку данных"
   ]
  },
  {
   "cell_type": "code",
   "execution_count": 103,
   "metadata": {},
   "outputs": [],
   "source": [
    "with open('winequality-red.csv') as f:\n",
    "    f.readline()  # пропуск заголовочной строки\n",
    "    data = np.loadtxt(f, delimiter=';')"
   ]
  },
  {
   "cell_type": "markdown",
   "metadata": {},
   "source": [
    "В качестве альтернативного варианта, можно выполнить загрузку данных напрямую из репозитория UCI, воспользовавшись библиотекой urllib."
   ]
  },
  {
   "cell_type": "code",
   "execution_count": 104,
   "metadata": {},
   "outputs": [
    {
     "name": "stdout",
     "output_type": "stream",
     "text": [
      "\"fixed acidity\";\"volatile acidity\";\"citric acid\";\"residual sugar\";\"chlorides\";\"free sulfur dioxide\";\"total sulfur dioxide\";\"density\";\"pH\";\"sulphates\";\"alcohol\";\"quality\"\n",
      "\n",
      "[[7.400e+00 7.000e-01 0.000e+00 1.900e+00 7.600e-02 1.100e+01 3.400e+01\n",
      "  9.978e-01 3.510e+00 5.600e-01 9.400e+00 5.000e+00]\n",
      " [7.800e+00 8.800e-01 0.000e+00 2.600e+00 9.800e-02 2.500e+01 6.700e+01\n",
      "  9.968e-01 3.200e+00 6.800e-01 9.800e+00 5.000e+00]\n",
      " [7.800e+00 7.600e-01 4.000e-02 2.300e+00 9.200e-02 1.500e+01 5.400e+01\n",
      "  9.970e-01 3.260e+00 6.500e-01 9.800e+00 5.000e+00]\n",
      " [1.120e+01 2.800e-01 5.600e-01 1.900e+00 7.500e-02 1.700e+01 6.000e+01\n",
      "  9.980e-01 3.160e+00 5.800e-01 9.800e+00 6.000e+00]\n",
      " [7.400e+00 7.000e-01 0.000e+00 1.900e+00 7.600e-02 1.100e+01 3.400e+01\n",
      "  9.978e-01 3.510e+00 5.600e-01 9.400e+00 5.000e+00]\n",
      " [7.400e+00 6.600e-01 0.000e+00 1.800e+00 7.500e-02 1.300e+01 4.000e+01\n",
      "  9.978e-01 3.510e+00 5.600e-01 9.400e+00 5.000e+00]\n",
      " [7.900e+00 6.000e-01 6.000e-02 1.600e+00 6.900e-02 1.500e+01 5.900e+01\n",
      "  9.964e-01 3.300e+00 4.600e-01 9.400e+00 5.000e+00]\n",
      " [7.300e+00 6.500e-01 0.000e+00 1.200e+00 6.500e-02 1.500e+01 2.100e+01\n",
      "  9.946e-01 3.390e+00 4.700e-01 1.000e+01 7.000e+00]\n",
      " [7.800e+00 5.800e-01 2.000e-02 2.000e+00 7.300e-02 9.000e+00 1.800e+01\n",
      "  9.968e-01 3.360e+00 5.700e-01 9.500e+00 7.000e+00]\n",
      " [7.500e+00 5.000e-01 3.600e-01 6.100e+00 7.100e-02 1.700e+01 1.020e+02\n",
      "  9.978e-01 3.350e+00 8.000e-01 1.050e+01 5.000e+00]] (1599, 12)\n"
     ]
    }
   ],
   "source": [
    "import urllib\n",
    "# URL for the Wine Quality Data Set (UCI Machine Learning Repository)\n",
    "url = \"https://archive.ics.uci.edu/ml/machine-learning-databases/wine-quality/winequality-red.csv\"\n",
    "# загрузка файла\n",
    "f = urllib.urlopen(url)\n",
    "head = f.readline()  # пропуск заголовочной строки\n",
    "print head\n",
    "data = np.loadtxt(f, delimiter=';')\n",
    "print data[:10], data.shape"
   ]
  },
  {
   "cell_type": "markdown",
   "metadata": {},
   "source": [
    "Выделим из данных целевую переменную. Классы в задаче являются несбалинсированными: основной доле объектов поставлена оценка качества от 5 до 7. Приведем задачу к трехклассовой: объектам с оценкой качества меньше пяти поставим оценку 5, а объектам с оценкой качества больше семи поставим 7. "
   ]
  },
  {
   "cell_type": "code",
   "execution_count": 105,
   "metadata": {},
   "outputs": [],
   "source": [
    "TRAIN_SIZE = 0.7 # Разделение данных на обучающую и контрольную части в пропорции 70/30%\n",
    "from sklearn.cross_validation import train_test_split\n",
    "\n",
    "y = data[:, -1]\n",
    "np.place(y, y < 5, 5)\n",
    "np.place(y, y > 7, 7)\n",
    "y -= min(y)\n",
    "X = data[:, :-1]\n",
    "X = normalize(X)\n",
    "\n",
    "X_train, X_test, y_train, y_test = train_test_split(X, y, train_size=TRAIN_SIZE, random_state=0)"
   ]
  },
  {
   "cell_type": "code",
   "execution_count": 106,
   "metadata": {},
   "outputs": [
    {
     "name": "stdout",
     "output_type": "stream",
     "text": [
      "set([0.0, 1.0, 2.0])\n"
     ]
    }
   ],
   "source": [
    "print set(y)"
   ]
  },
  {
   "cell_type": "markdown",
   "metadata": {},
   "source": [
    "### Двуслойная нейронная сеть\n",
    "\n",
    "Двуслойная нейронная сеть представляет собой функцию распознавания, которая може быть записана в виде следующей суперпозиции:\n",
    "\n",
    "$f(x,W)=h^{(2)}\\left(\\sum\\limits_{i=1}^D w_i^{(2)}h^{(1)}\\left(\\sum\\limits_{j=1}^n w_{ji}^{(1)}x_j+b_i^{(1)}\\right)+b^{(2)}\\right)$, где\n",
    "\n",
    "$x$ -- исходный объект (сорт вина, описанный 11 признаками), $x_j$ -- соответствующий признак,\n",
    "\n",
    "$n$ --  количество нейронов во входном слое сети, совпадающее с количеством признаков,\n",
    "\n",
    "$D$ --  количество нейронов в скрытом слое сети,\n",
    "\n",
    "$w_i^{(2)}, w_{ji}^{(1)}, b_i^{(1)}, b^{(2)}$ --  параметры сети, соответствующие весам нейронов,\n",
    "\n",
    "$h^{(1)}, h^{(2)}$ -- функции активации.\n",
    "\n",
    "В качестве функции активации на скрытом слое сети используется линейная функция. На выходном слое сети используется функция активации softmax, являющаяся обобщением сигмоидной функции на многоклассовый случай:\n",
    "\n",
    "$y_k=\\text{softmax}_k(a_1,...,a_k)=\\frac{\\exp(a_k)}{\\sum_{k=1}^K\\exp(a_k)}.$\n",
    "\n"
   ]
  },
  {
   "cell_type": "markdown",
   "metadata": {},
   "source": [
    "### Настройка параметров сети\n",
    "\n",
    "Оптимальные параметры сети $W_{opt}$ определяются путем минимизации функции ошибки:\n",
    "\n",
    "$W_{opt}=\\arg\\min\\limits_{W}L(W)+\\lambda\\|W\\|^2$.\n",
    "\n",
    "Здесь $L(W)$ является функцией ошибки многоклассовой классификации,\n",
    "\n",
    "$L(W)=- \\sum^N_{n=1}\\sum^K_{k=1} t_{kn} log(y_{kn}),$\n",
    "\n",
    "$t_{kn}$ -- бинарно закодированные метки классов, $K$ -- количество меток, $N$ -- количество объектов,\n",
    "\n",
    "а $\\lambda\\|W\\|^2$ является регуляризующим слагаемым, контролирующим суммарный вес параметров сети и предотвращающий эффект переобучения.\n",
    "\n",
    "Оптимизация параметров выполняется методом обратного распространения ошибки (backpropagation)."
   ]
  },
  {
   "cell_type": "markdown",
   "metadata": {},
   "source": [
    "Выполним загрузку основных модулей: ClassificationDataSet -- структура данных pybrain, buildNetwork -- инициализация нейронной сети, BackpropTrainer -- оптимизация параметров сети методом backpropagation, SoftmaxLayer -- функция softmax, соответствующая выходному слою сети, percentError -- функцию подсчета ошибки классификации (доля неправильных ответов). "
   ]
  },
  {
   "cell_type": "code",
   "execution_count": 107,
   "metadata": {},
   "outputs": [],
   "source": [
    "from pybrain.datasets import ClassificationDataSet # Структура данных pybrain\n",
    "from pybrain.tools.shortcuts import buildNetwork\n",
    "from pybrain.supervised.trainers import BackpropTrainer\n",
    "from pybrain.structure.modules import SoftmaxLayer\n",
    "from pybrain.utilities import percentError"
   ]
  },
  {
   "cell_type": "markdown",
   "metadata": {},
   "source": [
    "Инициализируем основные параметры задачи: HIDDEN_NEURONS_NUM -- количество нейронов скрытого слоя, MAX_EPOCHS -- максимальное количество итераций алгоритма оптимизации"
   ]
  },
  {
   "cell_type": "code",
   "execution_count": 108,
   "metadata": {},
   "outputs": [],
   "source": [
    "# Определение основных констант\n",
    "HIDDEN_NEURONS_NUM = 100 # Количество нейронов, содержащееся в скрытом слое сети\n",
    "MAX_EPOCHS = 100 # Максимальное число итераций алгоритма оптимизации параметров сети"
   ]
  },
  {
   "cell_type": "markdown",
   "metadata": {},
   "source": [
    "Инициализируем структуру данных ClassificationDataSet, используемую библиотекой pybrain. Для инициализации структура принимает два аргумента: количество признаков *np.shape(X)[1]* и количество различных меток классов *len(np.unique(y))*.\n",
    "\n",
    "Кроме того, произведем бинаризацию целевой переменной с помощью функции *_convertToOneOfMany( )* и разбиение данных на обучающую и контрольную части."
   ]
  },
  {
   "cell_type": "code",
   "execution_count": 109,
   "metadata": {},
   "outputs": [],
   "source": [
    "# Конвертация данных в структуру ClassificationDataSet\n",
    "# Обучающая часть\n",
    "ds_train = ClassificationDataSet(np.shape(X)[1], nb_classes=len(np.unique(y_train)))\n",
    "# Первый аргумент -- количество признаков np.shape(X)[1], второй аргумент -- количество меток классов len(np.unique(y_train)))\n",
    "ds_train.setField('input', X_train) # Инициализация объектов\n",
    "ds_train.setField('target', y_train[:, np.newaxis]) # Инициализация ответов; np.newaxis создает вектор-столбец\n",
    "ds_train._convertToOneOfMany( ) # Бинаризация вектора ответов\n",
    "# Контрольная часть\n",
    "ds_test = ClassificationDataSet(np.shape(X)[1], nb_classes=len(np.unique(y_train)))\n",
    "ds_test.setField('input', X_test)\n",
    "ds_test.setField('target', y_test[:, np.newaxis])\n",
    "ds_test._convertToOneOfMany( )"
   ]
  },
  {
   "cell_type": "markdown",
   "metadata": {},
   "source": [
    "Инициализируем двуслойную сеть и произведем оптимизацию ее параметров. Аргументами для инициализации являются:\n",
    "\n",
    "ds.indim -- количество нейронов на входном слое сети, совпадает с количеством признаков (в нашем случае 11),\n",
    "\n",
    "HIDDEN_NEURONS_NUM -- количество нейронов в скрытом слое сети,\n",
    "\n",
    "ds.outdim -- количество нейронов на выходном слое сети, совпадает с количеством различных меток классов (в нашем случае 3),\n",
    "\n",
    "SoftmaxLayer -- функция softmax, используемая на выходном слое для решения задачи многоклассовой классификации."
   ]
  },
  {
   "cell_type": "code",
   "execution_count": 110,
   "metadata": {
    "scrolled": true
   },
   "outputs": [],
   "source": [
    "np.random.seed(0) # Зафиксируем seed для получения воспроизводимого результата\n",
    "\n",
    "# Построение сети прямого распространения (Feedforward network)\n",
    "net = buildNetwork(ds_train.indim, HIDDEN_NEURONS_NUM, ds_train.outdim, outclass=SoftmaxLayer)\n",
    "# ds.indim -- количество нейронов входного слоя, равне количеству признаков\n",
    "# ds.outdim -- количество нейронов выходного слоя, равное количеству меток классов\n",
    "# SoftmaxLayer -- функция активации, пригодная для решения задачи многоклассовой классификации\n",
    "\n",
    "init_params = np.random.random((len(net.params))) # Инициализируем веса сети для получения воспроизводимого результата\n",
    "net._setParameters(init_params)"
   ]
  },
  {
   "cell_type": "markdown",
   "metadata": {},
   "source": [
    " Выполним оптимизацию параметров сети. График ниже показывает сходимость функции ошибки на обучающей/контрольной части."
   ]
  },
  {
   "cell_type": "code",
   "execution_count": 111,
   "metadata": {},
   "outputs": [
    {
     "data": {
      "image/png": "[encoded data removed]",
      "text/plain": [
       "<Figure size 432x288 with 1 Axes>"
      ]
     },
     "metadata": {
      "needs_background": "light"
     },
     "output_type": "display_data"
    }
   ],
   "source": [
    "random.seed(0)\n",
    "# Модуль настройки параметров pybrain использует модуль random; зафиксируем seed для получения воспроизводимого результата\n",
    "trainer = BackpropTrainer(net, dataset=ds_train) # Инициализируем модуль оптимизации\n",
    "err_train, err_val = trainer.trainUntilConvergence(maxEpochs=MAX_EPOCHS)\n",
    "line_train = plt.plot(err_train, 'b', err_val, 'r') # Построение графика\n",
    "xlab = plt.xlabel('Iterations')\n",
    "ylab = plt.ylabel('Error')"
   ]
  },
  {
   "cell_type": "markdown",
   "metadata": {},
   "source": [
    "Рассчитаем значение доли неправильных ответов на обучающей и контрольной выборке."
   ]
  },
  {
   "cell_type": "code",
   "execution_count": 112,
   "metadata": {
    "scrolled": true
   },
   "outputs": [
    {
     "name": "stdout",
     "output_type": "stream",
     "text": [
      "Error on train:  49.0616621984 %\n",
      "Error on test:  46.0416666667 %\n"
     ]
    }
   ],
   "source": [
    "res_train = net.activateOnDataset(ds_train).argmax(axis=1) # Подсчет результата на обучающей выборке\n",
    "print 'Error on train: ', percentError(res_train, ds_train['target'].argmax(axis=1)), '%' # Подсчет ошибки\n",
    "res_test = net.activateOnDataset(ds_test).argmax(axis=1) # Подсчет результата на тестовой выборке\n",
    "print 'Error on test: ', percentError(res_test, ds_test['target'].argmax(axis=1)), '%' # Подсчет ошибки"
   ]
  },
  {
   "cell_type": "code",
   "execution_count": 113,
   "metadata": {},
   "outputs": [
    {
     "name": "stdout",
     "output_type": "stream",
     "text": [
      "[1.29255932 0.77261146 0.41180684 ... 0.46378002 0.19931974 0.35219147]\n",
      "[0.87794051 0.82407722 0.77495989 ... 0.50610669 0.25595339 0.41906619]\n",
      "(49.061662198391424, 46.041666666666664)\n"
     ]
    }
   ],
   "source": [
    "# оформим код в функции\n",
    "np.random.seed(0)\n",
    "random.seed(0)\n",
    "\n",
    "def build_network(train_dataset, hidden_neurons_num=HIDDEN_NEURONS_NUM):\n",
    "    layers = (\n",
    "        train_dataset.indim, \n",
    "        hidden_neurons_num, \n",
    "        train_dataset.outdim,\n",
    "    )\n",
    "    net = buildNetwork(\n",
    "        *layers,\n",
    "        outclass=SoftmaxLayer\n",
    "    )\n",
    "    # ds.indim -- количество нейронов входного слоя, равне количеству признаков\n",
    "    # ds.outdim -- количество нейронов выходного слоя, равное количеству меток классов\n",
    "    # SoftmaxLayer -- функция активации, пригодная для решения задачи многоклассовой классификации\n",
    "    init_params = np.random.random((len(net.params))) # Инициализируем веса сети для получения воспроизводимого результата\n",
    "#     print init_params\n",
    "    net._setParameters(init_params)\n",
    "    return net\n",
    "\n",
    "def train_network(network, train_dataset, max_epochs=MAX_EPOCHS):\n",
    "#     random.seed(0)\n",
    "    # Модуль настройки параметров pybrain использует модуль random; зафиксируем seed для получения воспроизводимого результата\n",
    "    trainer = BackpropTrainer(network, dataset=train_dataset) # Инициализируем модуль оптимизации\n",
    "    err_train, err_val = trainer.trainUntilConvergence(maxEpochs=max_epochs)\n",
    "    return err_train, err_val\n",
    "\n",
    "def get_error_rate(network, dataset):\n",
    "    res = network.activateOnDataset(dataset).argmax(axis=1)\n",
    "    return percentError(res, dataset['target'].argmax(axis=1))\n",
    "\n",
    "def build_train_check(train_dataset, test_dataset, hidden_neurons_num=HIDDEN_NEURONS_NUM):\n",
    "    network = build_network(train_dataset, hidden_neurons_num)\n",
    "    train_network(network, train_dataset)\n",
    "    return (\n",
    "        get_error_rate(network, train_dataset),\n",
    "        get_error_rate(network, test_dataset),\n",
    "    )\n",
    "\n",
    "print init_params\n",
    "print build_train_check(train_dataset=ds_train, test_dataset=ds_test)"
   ]
  },
  {
   "cell_type": "markdown",
   "metadata": {},
   "source": [
    "### Задание. Определение оптимального числа нейронов.\n",
    "В задании требуется исследовать зависимость ошибки на контрольной выборке в зависимости от числа нейронов в скрытом слое сети. Количество нейронов, по которому предполагается провести перебор, записано в векторе \n",
    "```\n",
    "hidden_neurons_num = [50, 100, 200, 500, 700, 1000]\n",
    "```\n",
    "\n",
    "1. Для фиксированного разбиения на обучающую и контрольную части подсчитайте долю неправильных ответов (ошибок) классификации на обучении/контроле в зависимости от количества нейронов в скрытом слое сети. Запишите результаты в массивы ```res_train_vec``` и ```res_test_vec```, соответственно. С помощью функции ```plot_classification_error``` постройте график зависимости ошибок на обучении/контроле от количества нейронов. Являются ли графики ошибок возрастающими/убывающими? При каком количестве нейронов достигается минимум ошибок классификации?\n",
    "\n",
    "2. С помощью функции ```write_answer_nn``` запишите в выходной файл число: количество нейронов в скрытом слое сети, для которого достигается минимум ошибки классификации на контрольной выборке."
   ]
  },
  {
   "cell_type": "code",
   "execution_count": 114,
   "metadata": {},
   "outputs": [
    {
     "name": "stdout",
     "output_type": "stream",
     "text": [
      "[9.41742143e-01 7.21043408e-01 2.97970264e-01 7.09233764e-01\n",
      " 7.31930278e-01 3.42226331e-01 3.75588562e-01 3.59106508e-01\n",
      " 6.16618444e-01 9.00410147e-01 1.73193236e-01 8.75199610e-01\n",
      " 2.76531565e-02 6.60338596e-01 4.14438873e-01 7.91281552e-01\n",
      " 7.21198113e-01 4.80107807e-01 6.43864037e-01 5.01773131e-01\n",
      " 8.11518471e-01 4.76083986e-01 5.23155990e-01 2.50520586e-01\n",
      " 6.05043017e-01 3.02904809e-01 5.77284015e-01 1.69678116e-01\n",
      " 1.59469092e-01 4.17029741e-01 4.26819515e-01 2.68109265e-01\n",
      " 1.31596850e-01 3.92105392e-02 2.52318273e-02 2.71550290e-01\n",
      " 4.61853442e-01 7.26243281e-01 4.74871701e-01 9.04050819e-01\n",
      " 3.52198046e-02 1.80660622e-01 3.38514493e-01 5.77496188e-01\n",
      " 8.52736158e-01 3.50201952e-01 2.67988683e-01 6.18891688e-02\n",
      " 8.21303478e-01 3.79666443e-01 5.71550195e-01 9.83555418e-01\n",
      " 1.59457060e-03 1.45450141e-01 7.79110994e-01 8.05127485e-01\n",
      " 7.69247119e-01 5.36998891e-01 9.78856981e-01 3.96184560e-01\n",
      " 6.01943698e-01 6.33690045e-02 4.09857450e-01 7.22500088e-01\n",
      " 2.38738841e-01 9.43827589e-01 6.86783368e-01 2.87575383e-01\n",
      " 7.68998923e-01 8.31647718e-02 9.74774423e-01 4.92852591e-02\n",
      " 9.33455891e-01 2.52853878e-01 7.57824108e-01 7.36994331e-05\n",
      " 2.54240089e-01 7.49100607e-01 5.32336071e-01 1.14952150e-01\n",
      " 3.93629746e-01 3.75549355e-01 5.68162244e-01 6.67977072e-01\n",
      " 8.40830242e-01 4.97231397e-01 3.92021717e-01 1.43976534e-01\n",
      " 8.04822965e-01 7.13370405e-01 4.08677397e-01 5.18432310e-01\n",
      " 6.65182844e-01 1.64805590e-01 2.71977944e-02 3.17503699e-01\n",
      " 5.95585020e-01 4.86606091e-01 6.92554627e-01 8.19689806e-01\n",
      " 4.88442467e-01 1.34267024e-01 8.50628000e-01 5.74990327e-01\n",
      " 7.39937481e-01 7.04664654e-01 9.68211771e-01 2.95307322e-01\n",
      " 7.05306773e-01 3.65676333e-01 3.95410721e-01 2.30594637e-01\n",
      " 3.44010176e-01 9.48296752e-01 2.92570847e-01 2.45990606e-01\n",
      " 5.83137978e-01 2.58035957e-01 4.73385726e-01 8.34176257e-01\n",
      " 2.30400314e-01 4.26691412e-01 6.10489735e-01 5.45628925e-01\n",
      " 9.74723237e-01 6.80370254e-01 7.39946242e-01 9.66955948e-01\n",
      " 4.14438025e-01 3.55379815e-01 4.38624298e-02 1.84204307e-01\n",
      " 2.37189632e-01 1.83504467e-01 7.54783893e-01 5.35882981e-01\n",
      " 6.67633801e-01 8.20462161e-01 2.30773941e-01 3.25923940e-01\n",
      " 7.08360267e-01 3.92758946e-01 2.92709401e-02 4.34955219e-01\n",
      " 9.08273086e-01 4.09021512e-01 3.32248916e-01 9.89525083e-01\n",
      " 6.44415564e-01 3.65998026e-01 1.02019531e-01 7.87849445e-01\n",
      " 7.08074933e-01 9.21915799e-01 2.17275630e-01 1.14924350e-01\n",
      " 7.24072526e-01 2.03395842e-01 1.76103838e-01 3.19807335e-01\n",
      " 8.16825141e-01 5.39536605e-01 4.58503551e-02 4.63894675e-01\n",
      " 6.83979611e-01 5.38368438e-01 5.72450218e-01 2.24777328e-01\n",
      " 8.47739332e-01 5.61398718e-01 7.13246013e-01 9.81864217e-01\n",
      " 4.28198658e-01 8.81066613e-01 7.28101394e-03 3.34072926e-02\n",
      " 5.90279922e-01 3.11449396e-01 2.48276567e-01 2.77935357e-01\n",
      " 3.18402935e-01 7.28947696e-01 5.69195972e-01 7.89035973e-01\n",
      " 8.30196580e-01 8.42934859e-01 4.14644149e-01 4.21273396e-01\n",
      " 9.26265880e-01 6.61763595e-01 8.04671840e-02 5.42186954e-01\n",
      " 3.56007260e-01 9.87434990e-01 1.36554065e-02 6.12180873e-01\n",
      " 7.23623094e-01 2.88906771e-01 9.73641518e-01 8.59536627e-01\n",
      " 9.15652841e-01 1.92320594e-02 5.69872151e-01 2.94650242e-01\n",
      " 8.49028635e-01 6.32849657e-01 5.38877004e-01 1.14588170e-01\n",
      " 5.40222805e-01 6.31904146e-01 9.55912309e-01 5.85051010e-01\n",
      " 9.67400602e-01 9.61606116e-01 6.50200336e-01 5.05907984e-01\n",
      " 4.66021744e-01 8.90378561e-01 2.82566830e-02 1.13808198e-01\n",
      " 1.02071729e-01 7.56935325e-01 3.39651024e-01 6.37968545e-01\n",
      " 6.03782904e-01 3.85827970e-01 5.31567722e-01 6.45138534e-01\n",
      " 9.40950330e-01 5.75634073e-01 6.14367512e-01 6.78558177e-02\n",
      " 9.52215815e-01 5.28081928e-01 8.01273420e-01 5.02910631e-02\n",
      " 4.20910136e-01 2.56975459e-01 2.66975899e-01 7.91453730e-01\n",
      " 6.23866725e-01 4.39745312e-01 1.05857396e-02 9.64927943e-01\n",
      " 9.62023253e-01 2.17552210e-01 4.13463723e-02 5.30199363e-01\n",
      " 9.51410815e-01 9.10395846e-01 5.84662864e-01 3.03548851e-01\n",
      " 3.29960884e-01 8.97913551e-01 4.91784036e-01 1.31116229e-01\n",
      " 2.48425476e-01 2.76794901e-01 1.23546685e-01 4.63044382e-01\n",
      " 9.16050908e-01 6.68782543e-01 7.24739242e-02 5.49481781e-03\n",
      " 2.76247667e-01 3.62692935e-01 7.76749669e-01 9.67005524e-01\n",
      " 3.87567173e-01 6.86690030e-01 9.94901907e-01 7.45666584e-01\n",
      " 6.36189549e-01 7.80748542e-02 3.23215201e-01 9.13392158e-01\n",
      " 2.01005482e-01 8.43590359e-01 6.96323685e-01 3.66324371e-01\n",
      " 5.29174270e-01 5.42806469e-01 7.14053785e-01 5.16555941e-01\n",
      " 1.33075990e-01 7.73454672e-01 4.06272497e-01 9.63093890e-01\n",
      " 2.83513782e-01 2.63078780e-01 3.33507396e-01 5.72317016e-01\n",
      " 8.94869740e-01 1.76281640e-01 2.79678798e-01 5.81679843e-01\n",
      " 4.54334242e-01 4.47322887e-01 8.20734262e-01 9.23878303e-01\n",
      " 4.81306966e-01 6.87351795e-01 8.01058711e-01 5.18366410e-01\n",
      " 2.94316409e-01 6.38084598e-01 5.85109100e-01 9.01562820e-01\n",
      " 5.24070368e-02 9.10131387e-01 5.34432028e-01 1.56761160e-02\n",
      " 3.44702179e-01 7.24333564e-01 4.88433088e-01 9.80159037e-01\n",
      " 4.22610074e-01 3.26635230e-01 8.21671934e-01 5.47906699e-01\n",
      " 6.82326579e-01 8.05702338e-01 6.71427546e-01 4.22407495e-01\n",
      " 1.24796448e-01 5.80248167e-01 8.97433327e-01 4.18892427e-01\n",
      " 9.10725235e-01 5.03527820e-01 6.20841562e-01 8.32988476e-01\n",
      " 5.64597110e-01 9.09693393e-02 9.80979401e-01 2.45849302e-01\n",
      " 7.10505329e-01 5.05113439e-01 4.78772637e-01 2.43940819e-01\n",
      " 7.22150766e-01 1.12788265e-01 9.90453309e-01 8.45373537e-01\n",
      " 5.34508940e-01 4.24552956e-01 2.86464632e-01 5.01591471e-01\n",
      " 8.79417462e-01 2.75006401e-01 5.00537459e-01 2.34549902e-01\n",
      " 3.37149114e-01 1.90260509e-01 9.90539194e-01 5.71497446e-01\n",
      " 7.32815124e-01 9.82499135e-02 3.66117550e-01 8.92639803e-01\n",
      " 8.44383264e-02 1.65483228e-01 6.25417610e-01 6.22788994e-01\n",
      " 8.38227044e-01 9.35492764e-01 1.41986475e-01 2.59373819e-01\n",
      " 4.27461406e-01 9.03285521e-04 6.98143030e-02 2.26491278e-01\n",
      " 4.81101964e-01 2.51522738e-01 8.76681892e-01 3.24272876e-01\n",
      " 9.24622812e-01 9.74787261e-01 4.49861534e-01 2.27128817e-01\n",
      " 2.91666133e-01 7.76333682e-01 2.73349708e-01 3.80582868e-01\n",
      " 4.78575858e-01 5.75111116e-01 9.96100440e-01 2.32209755e-01\n",
      " 3.53423703e-01 2.62891177e-01 3.61113437e-01 1.00804517e-01\n",
      " 3.59809767e-01 8.87865031e-01 2.98589848e-01 3.71934780e-01\n",
      " 9.44474164e-01 7.28378996e-01 5.16738715e-01 7.77192728e-01\n",
      " 1.23179649e-01 4.64490353e-01 1.18236129e-01 2.33618145e-01\n",
      " 1.41867260e-01 3.61801239e-01 3.81639320e-01 9.47308582e-01\n",
      " 2.64125731e-01 4.72428845e-01 8.11379404e-01 8.15617586e-01\n",
      " 7.50343187e-01 2.87833762e-01 4.94971619e-01 1.86211595e-01\n",
      " 1.88399523e-01 4.35841213e-01 7.38592221e-01 5.26584260e-01\n",
      " 8.86683221e-01 8.30908798e-01 3.16054428e-02 5.68419043e-01\n",
      " 6.09161264e-01 9.61575144e-01 2.32366267e-02 5.31103771e-01\n",
      " 2.04781362e-01 5.36629063e-02 5.87488525e-01 7.72604144e-01\n",
      " 7.74865449e-01 3.02884102e-02 4.06946400e-01 4.45096271e-02\n",
      " 2.47838647e-01 1.92880703e-01 2.15182579e-01 3.39118414e-01\n",
      " 2.77418042e-01 9.62279911e-01 3.52407120e-01 8.94172515e-01\n",
      " 1.81041672e-01 7.63746867e-01 6.13455360e-02 4.62761229e-01\n",
      " 5.51044024e-03 8.10290763e-01 9.50486036e-01 3.51073708e-02\n",
      " 9.33846361e-01 7.73853891e-01 3.58861579e-01 9.08876551e-01\n",
      " 2.96257271e-01 4.09295312e-01 9.67112622e-02 6.56938962e-01\n",
      " 2.96008287e-02 4.84905275e-01 6.83191850e-01 8.21237601e-01\n",
      " 1.49941390e-01 7.54090366e-01 7.19077024e-01 5.59570534e-01\n",
      " 5.84644598e-01 9.12707209e-02 6.00471043e-01 3.81522207e-01\n",
      " 8.67580851e-01 3.13098882e-01 5.76595077e-01 4.26571400e-01\n",
      " 8.76261938e-01 2.53916667e-01 7.88023603e-02 7.48655721e-01\n",
      " 4.12896617e-01 5.89098359e-01 2.63893317e-02 9.52109791e-01\n",
      " 8.77618377e-01 6.23867901e-01 1.70298421e-02 3.77976474e-01\n",
      " 9.78796538e-01 6.81330359e-01 1.60987861e-01 4.60596749e-01\n",
      " 9.66737744e-01 5.34708174e-01 2.46145280e-02 6.19772084e-01\n",
      " 2.71216531e-01 9.88459519e-02 4.02908445e-01 5.58523097e-01\n",
      " 1.70407180e-02 5.59046809e-01 5.11203147e-01 7.93908383e-01\n",
      " 4.23549817e-01 5.53450430e-01 7.42009304e-01 8.97145872e-01\n",
      " 3.80034576e-01 6.01633496e-01 6.94610903e-01 4.32706764e-02\n",
      " 8.00760508e-01 3.77430185e-01 6.70238941e-01 4.71664066e-01\n",
      " 7.02339143e-01 7.24330979e-01 1.91571013e-01 6.62174234e-01\n",
      " 8.51323438e-01 2.35567201e-01 7.58183470e-01 6.33825113e-01\n",
      " 9.55126034e-01 2.60246577e-01 1.54277778e-01 3.12121015e-01\n",
      " 2.57958778e-01 7.56832760e-01 7.33109304e-01 6.69684901e-01\n",
      " 2.16379114e-01 8.61806807e-01 9.56571556e-01 5.31605818e-01\n",
      " 6.49372731e-01 5.00692099e-01 2.83557715e-01 2.86147604e-01\n",
      " 3.13420523e-01 1.90850004e-01 9.01923633e-01 8.58398134e-01\n",
      " 4.61639361e-01 3.67251413e-01 9.39078357e-01 2.22373469e-01\n",
      " 5.53541959e-01 5.44981555e-02 1.91202197e-01 6.04026933e-01\n",
      " 6.62183653e-01 5.80995819e-01 8.69601416e-01 9.93405221e-01\n",
      " 7.63861842e-01 4.65091784e-01 8.33934669e-01 1.20387394e-01\n",
      " 6.83270696e-01 5.18337787e-01 1.78065886e-01 9.72933617e-01\n",
      " 3.38437420e-01 6.15423406e-01 8.78594238e-01 5.06688844e-01\n",
      " 1.15137850e-01 8.18739084e-01 3.53213767e-01 9.83066869e-01\n",
      " 8.83825446e-01 8.53449333e-01 3.56253178e-01 7.57129778e-01\n",
      " 9.86329063e-01 5.26321612e-01 4.70732155e-01 1.46658210e-02\n",
      " 7.00203769e-01 8.58477569e-01 2.47457186e-01 3.15024577e-01\n",
      " 5.00677021e-01 7.20801574e-02 8.96424761e-02 4.21110759e-01\n",
      " 2.61218953e-01 4.06037303e-01 4.54386298e-01 9.76273397e-01\n",
      " 9.44259820e-01 1.39730152e-01 8.82585974e-01 8.02066623e-02\n",
      " 5.07635470e-01 1.63909900e-01 3.65892145e-01 7.43340226e-01\n",
      " 4.24505479e-01 8.06951288e-01 7.18815711e-01 9.42839446e-01\n",
      " 5.34156021e-01 8.02147954e-01 3.22907106e-01 3.45745845e-01\n",
      " 4.00510464e-01 4.10915734e-01 1.03253221e-01 5.19098939e-01\n",
      " 9.68032193e-02 8.89762136e-01 6.18447832e-02 4.49694430e-01\n",
      " 2.84694066e-01 1.54869416e-01 7.83836691e-01 7.14932399e-01\n",
      " 1.45947890e-01 6.32765641e-01 7.92555167e-01 7.73332220e-01\n",
      " 9.22795977e-02 6.85512719e-01 7.16023921e-01 8.62166267e-01\n",
      " 5.08044339e-01 4.61094000e-01 9.65116325e-01 7.96512256e-01\n",
      " 5.58730991e-01 3.30617071e-01 8.45237996e-01 4.55436389e-01\n",
      " 9.26851922e-02 4.54904273e-01 8.71968396e-01 4.48282147e-01\n",
      " 1.43491477e-02 6.11485324e-01 9.95830003e-01 8.17248584e-01\n",
      " 6.17237947e-01 9.14398887e-01 8.13581682e-01 4.98639353e-01\n",
      " 5.91220285e-01 7.31292809e-01 8.46426164e-01 5.81764024e-02\n",
      " 7.74803857e-01 4.47503440e-01 6.60798560e-01 7.64633011e-01\n",
      " 5.39501925e-01 1.58514851e-01 4.09526832e-01 7.68729938e-02\n",
      " 6.89300691e-01 9.53706182e-01 7.95252812e-01 3.89786423e-01\n",
      " 5.84291496e-01 3.04200676e-01 5.41045600e-01 3.00726906e-01\n",
      " 7.38324757e-01 2.59341508e-01 9.64020390e-01 6.61948732e-01\n",
      " 6.87778477e-02 1.07777635e-02 9.97046344e-01 2.20505578e-01\n",
      " 3.12562748e-01 2.08414014e-01 9.28101772e-01 6.52012860e-01\n",
      " 5.04386324e-01 5.57650814e-01 3.17872847e-01 6.14175002e-01\n",
      " 4.19600363e-01 1.99228146e-01 6.56605100e-01 3.73840569e-01\n",
      " 7.85066379e-01 4.15394958e-01 5.08271375e-01 7.87466479e-01\n",
      " 4.47878093e-01 9.66221135e-01 7.93028667e-01 8.26430405e-01\n",
      " 9.53920467e-01 3.88850629e-01 5.80080264e-01 6.93591741e-01\n",
      " 6.73458484e-01 9.52936795e-01 2.88348634e-01 2.91361529e-01\n",
      " 9.18004402e-01 7.99305642e-01 2.03356624e-01 5.70046878e-01\n",
      " 7.45763734e-01 3.53036390e-01 4.34382251e-01 5.75396612e-01\n",
      " 4.67108558e-01 7.53042390e-01 5.93875368e-03 4.34632524e-01\n",
      " 3.37581375e-01 6.09164053e-01 7.75958442e-01 7.61451622e-02\n",
      " 1.58059734e-01 6.65081624e-01 7.38402441e-01 5.88201777e-01\n",
      " 9.82803349e-01 4.99461489e-01 1.36292335e-01 6.86291060e-01\n",
      " 6.02075522e-01 5.90421475e-01 5.45853635e-01 9.39095710e-01\n",
      " 1.29156397e-01 7.31972985e-02 1.54117169e-01 2.44990210e-01\n",
      " 5.92946319e-01 6.12425249e-01 2.32601877e-01 4.89225499e-01\n",
      " 4.82061853e-01 4.53110766e-01 8.03545295e-01 4.71693070e-01\n",
      " 7.58365496e-01 1.66481132e-01 5.31967344e-01 8.24104776e-01\n",
      " 1.77716584e-01 4.64922169e-01 6.09079316e-01 1.84774575e-01\n",
      " 7.56765606e-01]\n"
     ]
    },
    {
     "name": "stdout",
     "output_type": "stream",
     "text": [
      "[0.5480834  0.55923161 0.62337314 ... 0.51122014 0.77125256 0.41305362]\n",
      "[0.13145937 0.06599489 0.92975908 ... 0.35170447 0.63151977 0.61749869]\n",
      "[0.33942211 0.42685543 0.10498987 ... 0.03411299 0.33145883 0.6501229 ]\n",
      "[0.12649583 0.97169149 0.06521097 ... 0.90649675 0.40440833 0.73137622]\n",
      "[0.7464048  0.21198395 0.9240218  ... 0.33937073 0.31603012 0.33862424]\n"
     ]
    },
    {
     "data": {
      "image/png": "[encoded data removed]",
      "text/plain": [
       "<Figure size 432x288 with 1 Axes>"
      ]
     },
     "metadata": {
      "needs_background": "light"
     },
     "output_type": "display_data"
    }
   ],
   "source": [
    "random.seed(0) # Зафиксируем seed для получния воспроизводимого результата\n",
    "np.random.seed(0)\n",
    "\n",
    "def plot_classification_error(hidden_neurons_num, res_train_vec, res_test_vec):\n",
    "# hidden_neurons_num -- массив размера h, содержащий количество нейронов, по которому предполагается провести перебор,\n",
    "#   hidden_neurons_num = [50, 100, 200, 500, 700, 1000];\n",
    "# res_train_vec -- массив размера h, содержащий значения доли неправильных ответов классификации на обучении;\n",
    "# res_train_vec -- массив размера h, содержащий значения доли неправильных ответов классификации на контроле\n",
    "    plt.figure()\n",
    "    plt.plot(hidden_neurons_num, res_train_vec)\n",
    "    plt.plot(hidden_neurons_num, res_test_vec, '-r')\n",
    "\n",
    "def write_answer_nn(optimal_neurons_num):\n",
    "    with open(\"nnets_answer1.txt\", \"w\") as fout:\n",
    "        fout.write(str(optimal_neurons_num))\n",
    "\n",
    "hidden_neurons_num = [50, 100, 200, 500, 700, 1000]\n",
    "res_train_vec = list()\n",
    "res_test_vec = list()\n",
    "\n",
    "for nnum in hidden_neurons_num:\n",
    "    res_train, res_test = build_train_check(ds_train, ds_test, hidden_neurons_num=nnum)\n",
    "    res_train_vec.append(res_train)\n",
    "    res_test_vec.append(res_test)\n",
    "    # Не забудьте про инициализацию весов командой np.random.random((len(net.params)))\n",
    "    \n",
    "# Постройте график зависимости ошибок на обучении и контроле в зависимости от количества нейронов\n",
    "plot_classification_error(hidden_neurons_num, res_train_vec, res_test_vec)          \n",
    "#  Запишите в файл количество нейронов, при котором достигается минимум ошибки на контроле\n",
    "write_answer_nn(hidden_neurons_num[res_test_vec.index(min(res_test_vec))]) "
   ]
  },
  {
   "cell_type": "code",
   "execution_count": 116,
   "metadata": {},
   "outputs": [
    {
     "data": {
      "text/plain": [
       "[(50, 49.955317247542446, 46.25),\n",
       " (100, 49.508489722966935, 46.041666666666664),\n",
       " (200, 51.29579982126899, 48.333333333333336),\n",
       " (500, 49.776586237712245, 45.625),\n",
       " (700, 49.061662198391424, 42.291666666666664),\n",
       " (1000, 50.223413762287755, 43.125)]"
      ]
     },
     "execution_count": 116,
     "metadata": {},
     "output_type": "execute_result"
    }
   ],
   "source": [
    "zip(hidden_neurons_num, res_train_vec, res_test_vec)"
   ]
  }
 ],
 "metadata": {
  "kernelspec": {
   "display_name": "Python 2",
   "language": "python",
   "name": "python2"
  },
  "language_info": {
   "codemirror_mode": {
    "name": "ipython",
    "version": 2
   },
   "file_extension": ".py",
   "mimetype": "text/x-python",
   "name": "python",
   "nbconvert_exporter": "python",
   "pygments_lexer": "ipython2",
   "version": "2.7.13"
  }
 },
 "nbformat": 4,
 "nbformat_minor": 1
}
