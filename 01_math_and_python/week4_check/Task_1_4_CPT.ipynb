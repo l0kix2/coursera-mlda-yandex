{
 "cells": [
  {
   "cell_type": "markdown",
   "metadata": {},
   "source": [
    "# Центральная предельная теорема своими руками"
   ]
  },
  {
   "cell_type": "markdown",
   "metadata": {},
   "source": [
    "## Я выберу равномерное случайное распределение на отрезке [a, b]"
   ]
  },
  {
   "cell_type": "code",
   "execution_count": 1,
   "metadata": {
    "collapsed": true
   },
   "outputs": [],
   "source": [
    "import numpy as np\n",
    "import matplotlib.pyplot as plt\n",
    "import scipy.stats as sts\n",
    "%matplotlib inline"
   ]
  },
  {
   "cell_type": "markdown",
   "metadata": {},
   "source": [
    "### Генерация выборки"
   ]
  },
  {
   "cell_type": "code",
   "execution_count": 2,
   "metadata": {
    "collapsed": true
   },
   "outputs": [],
   "source": [
    "a = -3\n",
    "b = 7\n",
    "\n",
    "#сгенерируем равномерную случайную величину на отрезке [-3, 7]\n",
    "uniform_rv = sts.uniform(a, b-a)\n",
    "\n",
    "#сгенерируем 1000 значений из этой случайной величины\n",
    "sample_array = uniform_rv.rvs(1000)"
   ]
  },
  {
   "cell_type": "markdown",
   "metadata": {},
   "source": [
    "### Построение гистограммы распределения и теоретической плотности распределения"
   ]
  },
  {
   "cell_type": "code",
   "execution_count": 21,
   "metadata": {
    "scrolled": true
   },
   "outputs": [
    {
     "data": {
      "text/plain": [
       "<matplotlib.legend.Legend at 0xc2540b8>"
      ]
     },
     "execution_count": 21,
     "metadata": {},
     "output_type": "execute_result"
    },
    {
     "data": {
      "image/png": "[encoded data removed]",
      "text/plain": [
       "<matplotlib.figure.Figure at 0xbdb8518>"
      ]
     },
     "metadata": {},
     "output_type": "display_data"
    }
   ],
   "source": [
    "#построение гистограммы\n",
    "plt.hist(sample_array, bins=10, normed=True)\n",
    "plt.ylabel('fraction of samples, f(x)')\n",
    "plt.xlabel('$x$')\n",
    "\n",
    "#построение плотности распределения\n",
    "x = np.linspace(a - 1,b + 2,1000)\n",
    "pdf = uniform_rv.pdf(x)\n",
    "plt.plot(x, pdf, label='f(x)')\n",
    "plt.legend()"
   ]
  },
  {
   "cell_type": "markdown",
   "metadata": {},
   "source": [
    "### Оценка распределения выборочного среднего"
   ]
  },
  {
   "cell_type": "code",
   "execution_count": 4,
   "metadata": {
    "collapsed": true
   },
   "outputs": [],
   "source": [
    "#напишем функцию, которая генерирует m выборок объёма n. Затем составляет список объёма m из выборочных средних\n",
    "def get_sample_mean_list(sample_array, n, m):\n",
    "    return [np.mean(np.random.choice(sample_array, n)) for i in xrange(1, m + 1)]\n",
    "\n",
    "# в функции:\n",
    "# np.random.choice(sample_array, n) - генерирует список размера n из элементов списка sample_array, выбранных случайно\n",
    "# np.mean(...) - находит выборочное среднее из выборки\n",
    "# [... for i in xrange(1, m + 1)] - получение списка объёма m из выборочных средних"
   ]
  },
  {
   "cell_type": "markdown",
   "metadata": {},
   "source": [
    "#### Найдём среднее, дисперсию и стандартное отклонение для равномерного случайного распределения на отрезке. А также найдём дисперсию и стандарное отклонение, что бы воспользоваться ЦПТ"
   ]
  },
  {
   "cell_type": "code",
   "execution_count": 15,
   "metadata": {},
   "outputs": [
    {
     "name": "stdout",
     "output_type": "stream",
     "text": [
      "Среднее:  2.07331956837\n",
      "Дисперсия: 8.33333333333\n",
      "Стандартное отклонение: 2.88675134595\n"
     ]
    }
   ],
   "source": [
    "s_mean = np.mean(sample_array)\n",
    "\n",
    "#дисперсия находится как ((b - a)**2)/12. По ЦПТ для каждой оценки дисперсию необходимо делить на n. В нашем случае, это числа 5, 10, 50\n",
    "s_disp = ((b - a) ** 2.)/12.\n",
    "s_disp_1 = s_disp/5.\n",
    "s_disp_2 = s_disp/10.\n",
    "s_disp_3 = s_disp/50.\n",
    "#стандартное отклонение находится как корень из дисперсии\n",
    "s_std = s_disp ** (1./2.)\n",
    "s_std_1 = s_disp_1 ** (1./2.)\n",
    "s_std_2 = s_disp_2 ** (1./2.)\n",
    "s_std_3 = s_disp_3 ** (1./2.)\n",
    "print 'Среднее: ', s_mean\n",
    "print 'Дисперсия:', s_disp\n",
    "print 'Стандартное отклонение:', s_std"
   ]
  },
  {
   "cell_type": "markdown",
   "metadata": {},
   "source": [
    "#### Оценка для n = 5"
   ]
  },
  {
   "cell_type": "code",
   "execution_count": 6,
   "metadata": {},
   "outputs": [],
   "source": [
    "# зададим нормально распределенную случайную величину c найденным средним и стандартным отклонением\n",
    "norm_rv_1 = sts.norm(loc=s_mean, scale=s_std_1)\n",
    "                   \n",
    "#найдём плотность распределения нормального распределения на отрезке [a, b]\n",
    "x_1 = np.linspace(a, b, 1000)\n",
    "pdf_1 = norm_rv_1.pdf(x_1)"
   ]
  },
  {
   "cell_type": "code",
   "execution_count": 7,
   "metadata": {
    "collapsed": true
   },
   "outputs": [],
   "source": [
    "#оценим выборочное среднее случайной величины для выборок объёма 5\n",
    "sample_mean_1 = get_sample_mean_list(sample_array, 5, 1000)"
   ]
  },
  {
   "cell_type": "code",
   "execution_count": 30,
   "metadata": {
    "scrolled": false
   },
   "outputs": [
    {
     "data": {
      "text/plain": [
       "<matplotlib.legend.Legend at 0xd5944e0>"
      ]
     },
     "execution_count": 30,
     "metadata": {},
     "output_type": "execute_result"
    },
    {
     "data": {
      "image/png": "[encoded data removed]",
      "text/plain": [
       "<matplotlib.figure.Figure at 0xd3ed7b8>"
      ]
     },
     "metadata": {},
     "output_type": "display_data"
    }
   ],
   "source": [
    "#построение гистограммы и плотности распределения нормального распределения\n",
    "plt.hist(sample_mean_1, bins=15, normed=True)\n",
    "plt.plot(x_1, pdf_1, label='f(x)')\n",
    "plt.ylabel('fraction of samples, f(x)')\n",
    "plt.xlabel('$x$')\n",
    "plt.legend()"
   ]
  },
  {
   "cell_type": "markdown",
   "metadata": {},
   "source": [
    "#### Оценка для n = 10"
   ]
  },
  {
   "cell_type": "code",
   "execution_count": 9,
   "metadata": {
    "collapsed": true
   },
   "outputs": [],
   "source": [
    "# зададим нормально распределенную случайную величину c найденным средним и стандартным отклонением\n",
    "norm_rv_2 = sts.norm(loc=s_mean, scale=s_std_2)\n",
    "                   \n",
    "#найдём плотность распределения нормального распределения на отрезке [a, b]\n",
    "x_2 = np.linspace(a, b, 1000)\n",
    "pdf_2 = norm_rv_2.pdf(x_2)"
   ]
  },
  {
   "cell_type": "code",
   "execution_count": 10,
   "metadata": {
    "collapsed": true
   },
   "outputs": [],
   "source": [
    "#оценим выборочное среднее случайной величины для выборок объёма 10\n",
    "sample_mean_2 = get_sample_mean_list(sample_array, 10, 1000)"
   ]
  },
  {
   "cell_type": "code",
   "execution_count": 29,
   "metadata": {},
   "outputs": [
    {
     "data": {
      "text/plain": [
       "<matplotlib.legend.Legend at 0xd52d320>"
      ]
     },
     "execution_count": 29,
     "metadata": {},
     "output_type": "execute_result"
    },
    {
     "data": {
      "image/png": "[encoded data removed]",
      "text/plain": [
       "<matplotlib.figure.Figure at 0xd1e8550>"
      ]
     },
     "metadata": {},
     "output_type": "display_data"
    }
   ],
   "source": [
    "#построение гистограммы и плотности распределения нормального распределения\n",
    "plt.hist(sample_mean_2, bins=15, normed=True)\n",
    "plt.plot(x_2, pdf_2, label='f(x)')\n",
    "plt.ylabel('fraction of samples, f(x)')\n",
    "plt.xlabel('$x$')\n",
    "plt.legend()"
   ]
  },
  {
   "cell_type": "markdown",
   "metadata": {},
   "source": [
    "#### Оценка для n = 50"
   ]
  },
  {
   "cell_type": "code",
   "execution_count": 12,
   "metadata": {
    "collapsed": true
   },
   "outputs": [],
   "source": [
    "# зададим нормально распределенную случайную величину c найденным средним и \n",
    "norm_rv_3 = sts.norm(loc=s_mean, scale=s_std_3)\n",
    "                   \n",
    "#найдём плотность распределения нормального распределения на отрезке [a, b]\n",
    "x_3 = np.linspace(a, b, 1000)\n",
    "pdf_3 = norm_rv_3.pdf(x_3)"
   ]
  },
  {
   "cell_type": "code",
   "execution_count": 13,
   "metadata": {
    "collapsed": true
   },
   "outputs": [],
   "source": [
    "#оценим выборочное среднее случайной величины для выборок объёма 50\n",
    "sample_mean_3 = get_sample_mean_list(sample_array, 50, 1000)"
   ]
  },
  {
   "cell_type": "code",
   "execution_count": 28,
   "metadata": {},
   "outputs": [
    {
     "data": {
      "text/plain": [
       "<matplotlib.legend.Legend at 0xd2b5cc0>"
      ]
     },
     "execution_count": 28,
     "metadata": {},
     "output_type": "execute_result"
    },
    {
     "data": {
      "image/png": "[encoded data removed]",
      "text/plain": [
       "<matplotlib.figure.Figure at 0xccee6d8>"
      ]
     },
     "metadata": {},
     "output_type": "display_data"
    }
   ],
   "source": [
    "#построение гистограммы и плотности распределения нормального распределения\n",
    "plt.hist(sample_mean_3, bins=15, normed=True)\n",
    "plt.plot(x_3, pdf_3, label='f(x)')\n",
    "plt.ylabel('fraction of samples, f(x)')\n",
    "plt.xlabel('$x$')\n",
    "plt.legend()"
   ]
  },
  {
   "cell_type": "markdown",
   "metadata": {
    "collapsed": true
   },
   "source": [
    "## Вывод: С ростом n гистограмма становится более узкой и более сконцентрированной возле среднего значения. С ростом n точность аппроксимации распределения выборочных средних нормальным растёт. "
   ]
  }
 ],
 "metadata": {
  "kernelspec": {
   "display_name": "Python 2",
   "language": "python",
   "name": "python2"
  },
  "language_info": {
   "codemirror_mode": {
    "name": "ipython",
    "version": 2
   },
   "file_extension": ".py",
   "mimetype": "text/x-python",
   "name": "python",
   "nbconvert_exporter": "python",
   "pygments_lexer": "ipython2",
   "version": "2.7.13"
  }
 },
 "nbformat": 4,
 "nbformat_minor": 2
}
