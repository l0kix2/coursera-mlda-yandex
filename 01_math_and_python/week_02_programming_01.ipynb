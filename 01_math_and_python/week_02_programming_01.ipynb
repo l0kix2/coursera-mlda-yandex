{
 "cells": [
  {
   "cell_type": "code",
   "execution_count": 4,
   "metadata": {},
   "outputs": [
    {
     "data": {
      "text/plain": [
       "['In comparison to dogs, cats have not undergone major changes during the domestication process.\\n',\n",
       " 'As cat simply catenates streams of bytes, it can be also used to concatenate binary files, where it will just concatenate sequence of bytes.\\n',\n",
       " 'A common interactive use of cat for a single file is to output the content of a file to standard output.\\n',\n",
       " 'Cats can hear sounds too faint or too high in frequency for human ears, such as those made by mice and other small animals.\\n',\n",
       " 'In one, people deliberately tamed cats in a process of artificial selection, as they were useful predators of vermin.\\n',\n",
       " 'The domesticated cat and its closest wild ancestor are both diploid organisms that possess 38 chromosomes and roughly 20,000 genes.\\n',\n",
       " 'Domestic cats are similar in size to the other members of the genus Felis, typically weighing between 4 and 5 kg (8.8 and 11.0 lb).\\n',\n",
       " 'However, if the output is piped or redirected, cat is unnecessary.\\n',\n",
       " 'cat with one named file is safer where human error is a concern - one wrong use of the default redirection symbol \">\" instead of \"<\" (often adjacent on keyboards) may permanently delete the file you were just needing to read.\\n',\n",
       " 'In terms of legibility, a sequence of commands starting with cat and connected by pipes has a clear left-to-right flow of information.\\n',\n",
       " 'Cat command is one of the basic commands that you learned when you started in the Unix / Linux world.\\n',\n",
       " 'Using cat command, the lines received from stdin can be redirected to a new file using redirection symbols.\\n',\n",
       " 'When you type simply cat command without any arguments, it just receives the stdin content and displays it in the stdout.\\n',\n",
       " 'Leopard was released on October 26, 2007 as the successor of Tiger (version 10.4), and is available in two editions.\\n',\n",
       " 'According to Apple, Leopard contains over 300 changes and enhancements over its predecessor, Mac OS X Tiger.\\n',\n",
       " 'As of Mid 2010, some Apple computers have firmware factory installed which will no longer allow installation of Mac OS X Leopard.\\n',\n",
       " 'Since Apple moved to using Intel processors in their computers, the OSx86 community has developed and now also allows Mac OS X Tiger and later releases to be installed on non-Apple x86-based computers.\\n',\n",
       " \"OS X Mountain Lion was released on July 25, 2012 for purchase and download through Apple's Mac App Store, as part of a switch to releasing OS X versions online and every year.\\n\",\n",
       " 'Apple has released a small patch for the three most recent versions of Safari running on OS X Yosemite, Mavericks, and Mountain Lion.\\n',\n",
       " 'The Mountain Lion release marks the second time Apple has offered an incremental upgrade, rather than releasing a new cat entirely.\\n',\n",
       " \"Mac OS X Mountain Lion installs in place, so you won't need to create a separate disk or run the installation off an external drive.\\n\",\n",
       " \"The fifth major update to Mac OS X, Leopard, contains such a mountain of features - more than 300 by Apple's count.\\n\"]"
      ]
     },
     "execution_count": 4,
     "metadata": {},
     "output_type": "execute_result"
    }
   ],
   "source": [
    "lines = open('sentences.txt').readlines()\n",
    "lines"
   ]
  },
  {
   "cell_type": "code",
   "execution_count": 7,
   "metadata": {},
   "outputs": [
    {
     "data": {
      "text/plain": [
       "['in comparison to dogs, cats have not undergone major changes during the domestication process.\\n',\n",
       " 'as cat simply catenates streams of bytes, it can be also used to concatenate binary files, where it will just concatenate sequence of bytes.\\n',\n",
       " 'a common interactive use of cat for a single file is to output the content of a file to standard output.\\n',\n",
       " 'cats can hear sounds too faint or too high in frequency for human ears, such as those made by mice and other small animals.\\n',\n",
       " 'in one, people deliberately tamed cats in a process of artificial selection, as they were useful predators of vermin.\\n',\n",
       " 'the domesticated cat and its closest wild ancestor are both diploid organisms that possess 38 chromosomes and roughly 20,000 genes.\\n',\n",
       " 'domestic cats are similar in size to the other members of the genus felis, typically weighing between 4 and 5 kg (8.8 and 11.0 lb).\\n',\n",
       " 'however, if the output is piped or redirected, cat is unnecessary.\\n',\n",
       " 'cat with one named file is safer where human error is a concern - one wrong use of the default redirection symbol \">\" instead of \"<\" (often adjacent on keyboards) may permanently delete the file you were just needing to read.\\n',\n",
       " 'in terms of legibility, a sequence of commands starting with cat and connected by pipes has a clear left-to-right flow of information.\\n',\n",
       " 'cat command is one of the basic commands that you learned when you started in the unix / linux world.\\n',\n",
       " 'using cat command, the lines received from stdin can be redirected to a new file using redirection symbols.\\n',\n",
       " 'when you type simply cat command without any arguments, it just receives the stdin content and displays it in the stdout.\\n',\n",
       " 'leopard was released on october 26, 2007 as the successor of tiger (version 10.4), and is available in two editions.\\n',\n",
       " 'according to apple, leopard contains over 300 changes and enhancements over its predecessor, mac os x tiger.\\n',\n",
       " 'as of mid 2010, some apple computers have firmware factory installed which will no longer allow installation of mac os x leopard.\\n',\n",
       " 'since apple moved to using intel processors in their computers, the osx86 community has developed and now also allows mac os x tiger and later releases to be installed on non-apple x86-based computers.\\n',\n",
       " \"os x mountain lion was released on july 25, 2012 for purchase and download through apple's mac app store, as part of a switch to releasing os x versions online and every year.\\n\",\n",
       " 'apple has released a small patch for the three most recent versions of safari running on os x yosemite, mavericks, and mountain lion.\\n',\n",
       " 'the mountain lion release marks the second time apple has offered an incremental upgrade, rather than releasing a new cat entirely.\\n',\n",
       " \"mac os x mountain lion installs in place, so you won't need to create a separate disk or run the installation off an external drive.\\n\",\n",
       " \"the fifth major update to mac os x, leopard, contains such a mountain of features - more than 300 by apple's count.\\n\"]"
      ]
     },
     "execution_count": 7,
     "metadata": {},
     "output_type": "execute_result"
    }
   ],
   "source": [
    "lower_lines = [line.lower() for line in lines]\n",
    "lower_lines"
   ]
  },
  {
   "cell_type": "code",
   "execution_count": 102,
   "metadata": {},
   "outputs": [
    {
     "name": "stdout",
     "output_type": "stream",
     "text": [
      "{0: {0: 1, 1: 1, 2: 1, 3: 1, 4: 1, 5: 1, 6: 1, 7: 1, 8: 1, 9: 1, 10: 1, 11: 1, 12: 1, 13: 1}, 1: {32: 1, 2: 1, 14: 1, 15: 1, 16: 1, 17: 1, 18: 1, 19: 2, 20: 2, 21: 2, 22: 1, 23: 1, 24: 1, 25: 1, 26: 2, 27: 1, 28: 1, 29: 1, 30: 1, 31: 1}, 2: {33: 3, 34: 1, 35: 1, 36: 1, 37: 1, 38: 1, 39: 2, 40: 1, 41: 2, 42: 1, 11: 1, 2: 2, 15: 1, 43: 1, 19: 2}, 3: {0: 1, 4: 1, 14: 1, 22: 1, 37: 1, 44: 1, 45: 1, 46: 2, 47: 1, 48: 1, 49: 1, 50: 1, 51: 1, 52: 1, 53: 1, 54: 1, 55: 1, 56: 1, 57: 1, 58: 1, 59: 1, 60: 1, 61: 1}, 4: {0: 2, 64: 1, 66: 1, 67: 1, 4: 1, 33: 1, 70: 1, 65: 1, 72: 1, 71: 1, 13: 1, 14: 1, 19: 2, 69: 1, 68: 1, 62: 1, 63: 1}, 5: {11: 1, 73: 1, 74: 1, 75: 1, 76: 1, 77: 1, 78: 1, 15: 1, 80: 1, 81: 1, 82: 1, 83: 1, 84: 1, 85: 1, 86: 1, 58: 2, 79: 1}, 6: {0: 1, 58: 2, 2: 1, 91: 1, 4: 1, 97: 1, 96: 1, 11: 2, 78: 1, 19: 1, 87: 1, 88: 1, 89: 1, 90: 1, 59: 1, 92: 1, 93: 1, 94: 1, 95: 1}, 7: {98: 1, 99: 1, 100: 1, 101: 1, 102: 1, 40: 2, 41: 1, 11: 1, 15: 1, 48: 1}, 8: {2: 1, 11: 2, 15: 1, 19: 2, 29: 1, 31: 1, 33: 1, 36: 1, 39: 2, 40: 2, 51: 1, 62: 2, 69: 1, 103: 1, 104: 1, 105: 1, 106: 1, 107: 1, 108: 1, 109: 1, 110: 1, 111: 1, 112: 1, 113: 1, 114: 1, 115: 1, 116: 1, 117: 1, 118: 1, 119: 1, 120: 1, 121: 1, 122: 1}, 9: {0: 1, 32: 1, 130: 1, 131: 1, 132: 1, 133: 1, 134: 1, 33: 2, 129: 1, 128: 1, 103: 1, 2: 1, 15: 1, 19: 3, 56: 1, 58: 1, 123: 1, 124: 1, 125: 1, 126: 1, 127: 1}, 10: {0: 1, 139: 1, 135: 1, 40: 1, 137: 1, 138: 1, 11: 2, 140: 1, 141: 1, 142: 1, 15: 1, 136: 1, 82: 1, 19: 1, 120: 2, 125: 1, 62: 1}, 11: {33: 1, 2: 1, 101: 1, 135: 1, 11: 1, 110: 1, 15: 1, 144: 1, 145: 1, 146: 1, 147: 1, 148: 1, 149: 1, 22: 1, 23: 1, 39: 1, 143: 2}, 12: {58: 1, 0: 1, 135: 1, 138: 1, 11: 2, 15: 1, 16: 1, 152: 1, 147: 1, 21: 2, 150: 1, 151: 1, 120: 1, 153: 1, 154: 1, 155: 1, 156: 1, 42: 1, 31: 1}, 13: {160: 1, 161: 1, 162: 1, 163: 1, 164: 1, 165: 1, 19: 1, 40: 1, 11: 1, 166: 1, 14: 1, 115: 1, 58: 1, 0: 1, 157: 1, 158: 1, 159: 1}, 14: {2: 1, 162: 1, 167: 1, 168: 1, 169: 1, 170: 2, 171: 1, 172: 1, 173: 1, 174: 1, 175: 1, 74: 1, 9: 1, 58: 1, 157: 1}, 15: {5: 1, 168: 1, 157: 1, 173: 1, 14: 1, 174: 1, 176: 1, 177: 1, 178: 1, 19: 2, 180: 1, 181: 1, 182: 1, 183: 1, 184: 1, 185: 1, 179: 1, 175: 1, 186: 1, 30: 1}, 16: {0: 1, 129: 1, 2: 2, 11: 1, 143: 1, 23: 1, 24: 1, 162: 1, 168: 2, 173: 1, 174: 1, 175: 2, 178: 2, 181: 1, 58: 2, 187: 1, 188: 1, 189: 1, 190: 1, 191: 1, 192: 1, 193: 1, 194: 1, 195: 1, 196: 1, 197: 1, 198: 1, 199: 1, 200: 1, 115: 1}, 17: {2: 1, 14: 1, 19: 1, 158: 1, 159: 1, 33: 1, 37: 1, 168: 1, 173: 1, 174: 2, 175: 2, 58: 2, 201: 1, 202: 1, 203: 1, 204: 1, 205: 1, 206: 1, 207: 1, 208: 1, 209: 1, 210: 1, 211: 1, 212: 1, 213: 1, 214: 1, 215: 1, 216: 1, 115: 1}, 18: {129: 1, 11: 1, 19: 1, 159: 1, 33: 1, 37: 1, 168: 1, 174: 1, 175: 1, 58: 1, 60: 1, 201: 1, 202: 1, 213: 1, 217: 1, 218: 1, 219: 1, 220: 1, 221: 1, 222: 1, 223: 1, 224: 1, 115: 1}, 19: {225: 1, 226: 1, 227: 1, 228: 1, 229: 1, 230: 1, 129: 1, 168: 1, 201: 1, 202: 1, 11: 2, 15: 1, 235: 1, 232: 1, 212: 1, 233: 1, 148: 1, 33: 1, 234: 1, 231: 1}, 20: {0: 1, 2: 1, 11: 1, 33: 1, 173: 1, 174: 1, 175: 1, 48: 1, 186: 1, 201: 1, 202: 1, 248: 1, 230: 1, 236: 1, 237: 1, 238: 1, 239: 1, 240: 1, 241: 1, 242: 1, 243: 1, 244: 1, 245: 1, 246: 1, 247: 1, 120: 1}, 21: {253: 1, 33: 1, 2: 1, 207: 1, 8: 1, 169: 1, 234: 1, 11: 1, 173: 1, 174: 1, 175: 1, 168: 1, 19: 1, 53: 1, 201: 1, 56: 1, 249: 1, 250: 1, 251: 1, 252: 1, 157: 1}}\n"
     ]
    }
   ],
   "source": [
    "import re\n",
    "words = {}\n",
    "words_reversed = {}\n",
    "line_words_count = {}\n",
    "\n",
    "for line_index, line in enumerate(lower_lines):\n",
    "    line_counts = line_words_count.setdefault(line_index, {})\n",
    "    for word in re.split('[^a-z]', line):\n",
    "        if not word:\n",
    "            continue\n",
    "        if word not in words:\n",
    "            word_id = len(words)\n",
    "            words[word] = word_id\n",
    "            words_reversed[word_id] = word\n",
    "        else:\n",
    "            word_id = words[word]\n",
    "        line_words = line_counts.setdefault(word_id, 0)\n",
    "        line_counts[word_id] = line_words + 1\n",
    "print line_words_count"
   ]
  },
  {
   "cell_type": "code",
   "execution_count": 101,
   "metadata": {},
   "outputs": [
    {
     "data": {
      "text/plain": [
       "[(0, 'in'),\n",
       " (1, 'comparison'),\n",
       " (2, 'to'),\n",
       " (3, 'dogs'),\n",
       " (4, 'cats'),\n",
       " (5, 'have'),\n",
       " (6, 'not'),\n",
       " (7, 'undergone'),\n",
       " (8, 'major'),\n",
       " (9, 'changes'),\n",
       " (10, 'during'),\n",
       " (11, 'the'),\n",
       " (12, 'domestication'),\n",
       " (13, 'process'),\n",
       " (14, 'as'),\n",
       " (15, 'cat'),\n",
       " (16, 'simply'),\n",
       " (17, 'catenates'),\n",
       " (18, 'streams'),\n",
       " (19, 'of'),\n",
       " (20, 'bytes'),\n",
       " (21, 'it'),\n",
       " (22, 'can'),\n",
       " (23, 'be'),\n",
       " (24, 'also'),\n",
       " (25, 'used'),\n",
       " (26, 'concatenate'),\n",
       " (27, 'binary'),\n",
       " (28, 'files'),\n",
       " (29, 'where'),\n",
       " (30, 'will'),\n",
       " (31, 'just'),\n",
       " (32, 'sequence'),\n",
       " (33, 'a'),\n",
       " (34, 'common'),\n",
       " (35, 'interactive'),\n",
       " (36, 'use'),\n",
       " (37, 'for'),\n",
       " (38, 'single'),\n",
       " (39, 'file'),\n",
       " (40, 'is'),\n",
       " (41, 'output'),\n",
       " (42, 'content'),\n",
       " (43, 'standard'),\n",
       " (44, 'hear'),\n",
       " (45, 'sounds'),\n",
       " (46, 'too'),\n",
       " (47, 'faint'),\n",
       " (48, 'or'),\n",
       " (49, 'high'),\n",
       " (50, 'frequency'),\n",
       " (51, 'human'),\n",
       " (52, 'ears'),\n",
       " (53, 'such'),\n",
       " (54, 'those'),\n",
       " (55, 'made'),\n",
       " (56, 'by'),\n",
       " (57, 'mice'),\n",
       " (58, 'and'),\n",
       " (59, 'other'),\n",
       " (60, 'small'),\n",
       " (61, 'animals'),\n",
       " (62, 'one'),\n",
       " (63, 'people'),\n",
       " (64, 'deliberately'),\n",
       " (65, 'tamed'),\n",
       " (66, 'artificial'),\n",
       " (67, 'selection'),\n",
       " (68, 'they'),\n",
       " (69, 'were'),\n",
       " (70, 'useful'),\n",
       " (71, 'predators'),\n",
       " (72, 'vermin'),\n",
       " (73, 'domesticated'),\n",
       " (74, 'its'),\n",
       " (75, 'closest'),\n",
       " (76, 'wild'),\n",
       " (77, 'ancestor'),\n",
       " (78, 'are'),\n",
       " (79, 'both'),\n",
       " (80, 'diploid'),\n",
       " (81, 'organisms'),\n",
       " (82, 'that'),\n",
       " (83, 'possess'),\n",
       " (84, 'chromosomes'),\n",
       " (85, 'roughly'),\n",
       " (86, 'genes'),\n",
       " (87, 'domestic'),\n",
       " (88, 'similar'),\n",
       " (89, 'size'),\n",
       " (90, 'members'),\n",
       " (91, 'genus'),\n",
       " (92, 'felis'),\n",
       " (93, 'typically'),\n",
       " (94, 'weighing'),\n",
       " (95, 'between'),\n",
       " (96, 'kg'),\n",
       " (97, 'lb'),\n",
       " (98, 'however'),\n",
       " (99, 'if'),\n",
       " (100, 'piped'),\n",
       " (101, 'redirected'),\n",
       " (102, 'unnecessary'),\n",
       " (103, 'with'),\n",
       " (104, 'named'),\n",
       " (105, 'safer'),\n",
       " (106, 'error'),\n",
       " (107, 'concern'),\n",
       " (108, 'wrong'),\n",
       " (109, 'default'),\n",
       " (110, 'redirection'),\n",
       " (111, 'symbol'),\n",
       " (112, 'instead'),\n",
       " (113, 'often'),\n",
       " (114, 'adjacent'),\n",
       " (115, 'on'),\n",
       " (116, 'keyboards'),\n",
       " (117, 'may'),\n",
       " (118, 'permanently'),\n",
       " (119, 'delete'),\n",
       " (120, 'you'),\n",
       " (121, 'needing'),\n",
       " (122, 'read'),\n",
       " (123, 'terms'),\n",
       " (124, 'legibility'),\n",
       " (125, 'commands'),\n",
       " (126, 'starting'),\n",
       " (127, 'connected'),\n",
       " (128, 'pipes'),\n",
       " (129, 'has'),\n",
       " (130, 'clear'),\n",
       " (131, 'left'),\n",
       " (132, 'right'),\n",
       " (133, 'flow'),\n",
       " (134, 'information'),\n",
       " (135, 'command'),\n",
       " (136, 'basic'),\n",
       " (137, 'learned'),\n",
       " (138, 'when'),\n",
       " (139, 'started'),\n",
       " (140, 'unix'),\n",
       " (141, 'linux'),\n",
       " (142, 'world'),\n",
       " (143, 'using'),\n",
       " (144, 'lines'),\n",
       " (145, 'received'),\n",
       " (146, 'from'),\n",
       " (147, 'stdin'),\n",
       " (148, 'new'),\n",
       " (149, 'symbols'),\n",
       " (150, 'type'),\n",
       " (151, 'without'),\n",
       " (152, 'any'),\n",
       " (153, 'arguments'),\n",
       " (154, 'receives'),\n",
       " (155, 'displays'),\n",
       " (156, 'stdout'),\n",
       " (157, 'leopard'),\n",
       " (158, 'was'),\n",
       " (159, 'released'),\n",
       " (160, 'october'),\n",
       " (161, 'successor'),\n",
       " (162, 'tiger'),\n",
       " (163, 'version'),\n",
       " (164, 'available'),\n",
       " (165, 'two'),\n",
       " (166, 'editions'),\n",
       " (167, 'according'),\n",
       " (168, 'apple'),\n",
       " (169, 'contains'),\n",
       " (170, 'over'),\n",
       " (171, 'enhancements'),\n",
       " (172, 'predecessor'),\n",
       " (173, 'mac'),\n",
       " (174, 'os'),\n",
       " (175, 'x'),\n",
       " (176, 'mid'),\n",
       " (177, 'some'),\n",
       " (178, 'computers'),\n",
       " (179, 'firmware'),\n",
       " (180, 'factory'),\n",
       " (181, 'installed'),\n",
       " (182, 'which'),\n",
       " (183, 'no'),\n",
       " (184, 'longer'),\n",
       " (185, 'allow'),\n",
       " (186, 'installation'),\n",
       " (187, 'since'),\n",
       " (188, 'moved'),\n",
       " (189, 'intel'),\n",
       " (190, 'processors'),\n",
       " (191, 'their'),\n",
       " (192, 'osx'),\n",
       " (193, 'community'),\n",
       " (194, 'developed'),\n",
       " (195, 'now'),\n",
       " (196, 'allows'),\n",
       " (197, 'later'),\n",
       " (198, 'releases'),\n",
       " (199, 'non'),\n",
       " (200, 'based'),\n",
       " (201, 'mountain'),\n",
       " (202, 'lion'),\n",
       " (203, 'july'),\n",
       " (204, 'purchase'),\n",
       " (205, 'download'),\n",
       " (206, 'through'),\n",
       " (207, 's'),\n",
       " (208, 'app'),\n",
       " (209, 'store'),\n",
       " (210, 'part'),\n",
       " (211, 'switch'),\n",
       " (212, 'releasing'),\n",
       " (213, 'versions'),\n",
       " (214, 'online'),\n",
       " (215, 'every'),\n",
       " (216, 'year'),\n",
       " (217, 'patch'),\n",
       " (218, 'three'),\n",
       " (219, 'most'),\n",
       " (220, 'recent'),\n",
       " (221, 'safari'),\n",
       " (222, 'running'),\n",
       " (223, 'yosemite'),\n",
       " (224, 'mavericks'),\n",
       " (225, 'release'),\n",
       " (226, 'marks'),\n",
       " (227, 'second'),\n",
       " (228, 'time'),\n",
       " (229, 'offered'),\n",
       " (230, 'an'),\n",
       " (231, 'incremental'),\n",
       " (232, 'upgrade'),\n",
       " (233, 'rather'),\n",
       " (234, 'than'),\n",
       " (235, 'entirely'),\n",
       " (236, 'installs'),\n",
       " (237, 'place'),\n",
       " (238, 'so'),\n",
       " (239, 'won'),\n",
       " (240, 't'),\n",
       " (241, 'need'),\n",
       " (242, 'create'),\n",
       " (243, 'separate'),\n",
       " (244, 'disk'),\n",
       " (245, 'run'),\n",
       " (246, 'off'),\n",
       " (247, 'external'),\n",
       " (248, 'drive'),\n",
       " (249, 'fifth'),\n",
       " (250, 'update'),\n",
       " (251, 'features'),\n",
       " (252, 'more'),\n",
       " (253, 'count')]"
      ]
     },
     "execution_count": 101,
     "metadata": {},
     "output_type": "execute_result"
    }
   ],
   "source": [
    "sorted(words_reversed.items())"
   ]
  },
  {
   "cell_type": "code",
   "execution_count": 85,
   "metadata": {},
   "outputs": [],
   "source": [
    "import numpy as np"
   ]
  },
  {
   "cell_type": "code",
   "execution_count": null,
   "metadata": {},
   "outputs": [],
   "source": []
  },
  {
   "cell_type": "code",
   "execution_count": 103,
   "metadata": {},
   "outputs": [],
   "source": [
    "matrix = np.array([[line_words_count[line_id].get(word_id, 0) for word_id, word in sorted(words_reversed.items())] for line_id, line in enumerate(lower_lines)])"
   ]
  },
  {
   "cell_type": "code",
   "execution_count": 104,
   "metadata": {},
   "outputs": [
    {
     "data": {
      "text/plain": [
       "(22, 254)"
      ]
     },
     "execution_count": 104,
     "metadata": {},
     "output_type": "execute_result"
    }
   ],
   "source": [
    "matrix.shape"
   ]
  },
  {
   "cell_type": "code",
   "execution_count": 105,
   "metadata": {},
   "outputs": [
    {
     "name": "stdout",
     "output_type": "stream",
     "text": [
      "in comparison to dogs, cats have not undergone major changes during the domestication process.\n",
      "\n"
     ]
    }
   ],
   "source": [
    "print lower_lines[0]"
   ]
  },
  {
   "cell_type": "code",
   "execution_count": 106,
   "metadata": {},
   "outputs": [
    {
     "name": "stdout",
     "output_type": "stream",
     "text": [
      "[[1 1 1 ..., 0 0 0]\n",
      " [0 0 1 ..., 0 0 0]\n",
      " [0 0 2 ..., 0 0 0]\n",
      " ..., \n",
      " [0 0 0 ..., 0 0 0]\n",
      " [1 0 1 ..., 0 0 0]\n",
      " [0 0 1 ..., 1 1 1]]\n",
      "in\n",
      "comparison\n",
      "to\n",
      "dogs\n",
      "cats\n",
      "have\n",
      "not\n",
      "undergone\n",
      "major\n",
      "changes\n",
      "during\n",
      "the\n",
      "domestication\n",
      "process\n"
     ]
    }
   ],
   "source": [
    "print matrix\n",
    "for idx, num in enumerate(matrix[0, :]):\n",
    "    if num:\n",
    "        print words_reversed[idx]"
   ]
  },
  {
   "cell_type": "code",
   "execution_count": 119,
   "metadata": {},
   "outputs": [
    {
     "name": "stdout",
     "output_type": "stream",
     "text": [
      "(0.0, 0, 'in comparison to dogs, cats have not undergone major changes during the domestication process.\\n')\n",
      "(0.7327387580875756, 6, 'domestic cats are similar in size to the other members of the genus felis, typically weighing between 4 and 5 kg (8.8 and 11.0 lb).\\n')\n",
      "(0.77708871496985887, 4, 'in one, people deliberately tamed cats in a process of artificial selection, as they were useful predators of vermin.\\n')\n",
      "(0.82503644694405875, 21, \"the fifth major update to mac os x, leopard, contains such a mountain of features - more than 300 by apple's count.\\n\")\n",
      "(0.83281653622739416, 10, 'cat command is one of the basic commands that you learned when you started in the unix / linux world.\\n')\n",
      "(0.83964325485254543, 12, 'when you type simply cat command without any arguments, it just receives the stdin content and displays it in the stdout.\\n')\n",
      "(0.84063618542208085, 16, 'since apple moved to using intel processors in their computers, the osx86 community has developed and now also allows mac os x tiger and later releases to be installed on non-apple x86-based computers.\\n')\n",
      "(0.84275727449171223, 20, \"mac os x mountain lion installs in place, so you won't need to create a separate disk or run the installation off an external drive.\\n\")\n",
      "(0.86447381456421235, 2, 'a common interactive use of cat for a single file is to output the content of a file to standard output.\\n')\n",
      "(0.87035925528956715, 13, 'leopard was released on october 26, 2007 as the successor of tiger (version 10.4), and is available in two editions.\\n')\n",
      "(0.87401184233025764, 14, 'according to apple, leopard contains over 300 changes and enhancements over its predecessor, mac os x tiger.\\n')\n",
      "(0.88047713906656067, 11, 'using cat command, the lines received from stdin can be redirected to a new file using redirection symbols.\\n')\n",
      "(0.88427248752843113, 8, 'cat with one named file is safer where human error is a concern - one wrong use of the default redirection symbol \">\" instead of \"<\" (often adjacent on keyboards) may permanently delete the file you were just needing to read.\\n')\n",
      "(0.88854435748492944, 19, 'the mountain lion release marks the second time apple has offered an incremental upgrade, rather than releasing a new cat entirely.\\n')\n",
      "(0.89517151632780823, 3, 'cats can hear sounds too faint or too high in frequency for human ears, such as those made by mice and other small animals.\\n')\n",
      "(0.90550888174769317, 9, 'in terms of legibility, a sequence of commands starting with cat and connected by pipes has a clear left-to-right flow of information.\\n')\n",
      "(0.92587506833388988, 7, 'however, if the output is piped or redirected, cat is unnecessary.\\n')\n",
      "(0.94023856953328033, 5, 'the domesticated cat and its closest wild ancestor are both diploid organisms that possess 38 chromosomes and roughly 20,000 genes.\\n')\n",
      "(0.94427217874246472, 15, 'as of mid 2010, some apple computers have firmware factory installed which will no longer allow installation of mac os x leopard.\\n')\n",
      "(0.94427217874246472, 18, 'apple has released a small patch for the three most recent versions of safari running on os x yosemite, mavericks, and mountain lion.\\n')\n",
      "(0.95275444087384664, 1, 'as cat simply catenates streams of bytes, it can be also used to concatenate binary files, where it will just concatenate sequence of bytes.\\n')\n",
      "(0.95664450152379399, 17, \"os x mountain lion was released on july 25, 2012 for purchase and download through apple's mac app store, as part of a switch to releasing os x versions online and every year.\\n\")\n"
     ]
    }
   ],
   "source": [
    "from scipy.spatial.distance import cosine\n",
    "cosines = []\n",
    "first_vector = matrix[0, :]\n",
    "for line_id, line in enumerate(lower_lines):\n",
    "    cosines.append((cosine(first_vector, matrix[line_id, :]), line_id, line))\n",
    "for result in sorted(cosines):\n",
    "    print result"
   ]
  },
  {
   "cell_type": "code",
   "execution_count": 120,
   "metadata": {},
   "outputs": [],
   "source": [
    "with open('submission-1.txt', 'w') as file_:\n",
    "    file_.write('6 4')\n"
   ]
  },
  {
   "cell_type": "code",
   "execution_count": 122,
   "metadata": {},
   "outputs": [
    {
     "name": "stdout",
     "output_type": "stream",
     "text": [
      "6 4"
     ]
    }
   ],
   "source": [
    "\n",
    "!cat submission-1.txt"
   ]
  },
  {
   "cell_type": "code",
   "execution_count": null,
   "metadata": {},
   "outputs": [],
   "source": []
  }
 ],
 "metadata": {
  "kernelspec": {
   "display_name": "Python 2",
   "language": "python",
   "name": "python2"
  },
  "language_info": {
   "codemirror_mode": {
    "name": "ipython",
    "version": 2
   },
   "file_extension": ".py",
   "mimetype": "text/x-python",
   "name": "python",
   "nbconvert_exporter": "python",
   "pygments_lexer": "ipython2",
   "version": "2.7.13"
  }
 },
 "nbformat": 4,
 "nbformat_minor": 2
}
