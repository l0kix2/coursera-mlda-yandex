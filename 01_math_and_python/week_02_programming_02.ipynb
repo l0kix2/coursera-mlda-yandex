{
 "cells": [
  {
   "cell_type": "code",
   "execution_count": 159,
   "metadata": {},
   "outputs": [],
   "source": [
    "from scipy import linalg\n",
    "from scipy import interpolate\n",
    "import numpy as np\n",
    "%matplotlib inline\n",
    "import matplotlib.pyplot as plt"
   ]
  },
  {
   "cell_type": "code",
   "execution_count": 163,
   "metadata": {},
   "outputs": [
    {
     "name": "stdout",
     "output_type": "stream",
     "text": [
      "[array([  1.,  15.]), array([  1.,   8.,  15.]), array([  1.,   4.,  10.,  15.])]\n",
      "[array([ 3.25221687,  0.63522142]), array([ 3.25221687,  2.31617016,  0.63522142]), array([ 3.25221687,  1.74684595,  2.50541641,  0.63522142])]\n"
     ]
    }
   ],
   "source": [
    "f = lambda x: np.sin(x/5) * np.exp(x/10) + 5 * np.exp(-x/2)\n",
    "x_array = [np.array([1.0, 15.0]), np.array([1.0, 8.0, 15.]), np.array([1., 4., 10., 15.])]\n",
    "f_array = [f(x) for x in x_array]\n",
    "print x_array\n",
    "print f_array\n"
   ]
  },
  {
   "cell_type": "code",
   "execution_count": 164,
   "metadata": {},
   "outputs": [
    {
     "name": "stdout",
     "output_type": "stream",
     "text": [
      "[[  1.   1.]\n",
      " [  1.  15.]]\n",
      "[[ 3.25221687]\n",
      " [ 0.63522142]]\n",
      "[[   1.    1.    1.]\n",
      " [   1.    8.   64.]\n",
      " [   1.   15.  225.]]\n",
      "[[ 3.25221687]\n",
      " [ 2.31617016]\n",
      " [ 0.63522142]]\n",
      "[[  1.00000000e+00   1.00000000e+00   1.00000000e+00   1.00000000e+00]\n",
      " [  1.00000000e+00   4.00000000e+00   1.60000000e+01   6.40000000e+01]\n",
      " [  1.00000000e+00   1.00000000e+01   1.00000000e+02   1.00000000e+03]\n",
      " [  1.00000000e+00   1.50000000e+01   2.25000000e+02   3.37500000e+03]]\n",
      "[[ 3.25221687]\n",
      " [ 1.74684595]\n",
      " [ 2.50541641]\n",
      " [ 0.63522142]]\n"
     ]
    }
   ],
   "source": [
    "A_array, b_array = [], []\n",
    "for x_vals, f_vals in zip(x_array, f_array):\n",
    "    size = len(x_vals)\n",
    "    left_part = np.array([[xi**pos for pos in range(size) ] for xi in x_vals])\n",
    "    right_part = f_vals.reshape(size, 1)\n",
    "    print left_part\n",
    "    print right_part\n",
    "    A_array.append(left_part)\n",
    "    b_array.append(right_part)"
   ]
  },
  {
   "cell_type": "code",
   "execution_count": 165,
   "metadata": {},
   "outputs": [
    {
     "name": "stdout",
     "output_type": "stream",
     "text": [
      "[[ 3.25221687]\n",
      " [ 0.63522142]]\n",
      "[[ 3.25221687]\n",
      " [ 0.63522142]]\n",
      "[[ 3.25221687]\n",
      " [ 2.31617016]\n",
      " [ 0.63522142]]\n",
      "[[ 3.25221687]\n",
      " [ 2.31617016]\n",
      " [ 0.63522142]]\n",
      "[[ 3.25221687]\n",
      " [ 1.74684595]\n",
      " [ 2.50541641]\n",
      " [ 0.63522142]]\n",
      "[[ 3.25221687]\n",
      " [ 1.74684595]\n",
      " [ 2.50541641]\n",
      " [ 0.63522142]]\n"
     ]
    }
   ],
   "source": [
    "w_array = []\n",
    "for left, right in zip(A_array, b_array):\n",
    "    solution = linalg.solve(left, right)\n",
    "#     print left\n",
    "    print right\n",
    "#     print solution\n",
    "    print left.dot(solution)\n",
    "    w_array.append(solution)"
   ]
  },
  {
   "cell_type": "code",
   "execution_count": 166,
   "metadata": {},
   "outputs": [
    {
     "name": "stdout",
     "output_type": "stream",
     "text": [
      "[  1.   2.   3.   4.   5.   6.   7.   8.   9.  10.  11.  12.  13.  14.  15.]\n",
      "[ 3.25221687  2.31503384  1.87783842  1.74684595  1.7977761   1.94722128\n",
      "  2.13543898  2.31617016  2.45082365  2.50541641  2.44929128  2.2550105\n",
      "  1.89904466  1.36300335  0.63522142]\n",
      "[ 3.25221687  3.06528862  2.87836037  2.69143213  2.50450388  2.31757563\n",
      "  2.13064739  1.94371914  1.7567909   1.56986265  1.3829344   1.19600616\n",
      "  1.00907791  0.82214967  0.63522142]\n",
      "[ 3.25221687  3.16410215  3.06078536  2.94226649  2.80854553  2.65962249\n",
      "  2.49549736  2.31617016  2.12164087  1.9119095   1.68697605  1.44684052\n",
      "  1.1915029   0.9209632   0.63522142]\n",
      "[ 3.25221687  2.47905198  1.99373298  1.74684595  1.68897699  1.77071218\n",
      "  1.94263763  2.15533942  2.35940365  2.50541641  2.54396379  2.42563189\n",
      "  2.1010068   1.52067461  0.63522142]\n"
     ]
    },
    {
     "data": {
      "text/plain": [
       "[<matplotlib.lines.Line2D at 0x10e27abd0>,\n",
       " <matplotlib.lines.Line2D at 0x10e27ac90>,\n",
       " <matplotlib.lines.Line2D at 0x10e2884d0>,\n",
       " <matplotlib.lines.Line2D at 0x10e2888d0>]"
      ]
     },
     "execution_count": 166,
     "metadata": {},
     "output_type": "execute_result"
    },
    {
     "data": {
      "image/png": "[encoded data removed]",
      "text/plain": [
       "<matplotlib.figure.Figure at 0x10dfe7090>"
      ]
     },
     "metadata": {},
     "output_type": "display_data"
    }
   ],
   "source": [
    "x0 = np.arange(1, 15.5, 1)\n",
    "y0 = f(x0)\n",
    "y1 = w_array[0][0] + w_array[0][1]*x0\n",
    "y2 = w_array[1][0] + w_array[1][1]*x0 + w_array[1][2]*x0**2\n",
    "y3 = w_array[2][0] + w_array[2][1]*x0 + w_array[2][2]*x0**2 + w_array[2][3]*x0**3\n",
    "print x0\n",
    "print y0\n",
    "# print w_array[0][0], w_array[0][1]\n",
    "print y1\n",
    "print y2\n",
    "print y3\n",
    "plt.plot(\n",
    "    x0, y0, '-',\n",
    "    x0, y1, '+',\n",
    "    x0, y2, '*',\n",
    "    x0, y3, '>',\n",
    ")"
   ]
  },
  {
   "cell_type": "code",
   "execution_count": 187,
   "metadata": {},
   "outputs": [
    {
     "name": "stdout",
     "output_type": "stream",
     "text": [
      "[[ 4.36264154]\n",
      " [-1.29552587]\n",
      " [ 0.19333685]\n",
      " [-0.00823565]]\n",
      "[ 4.36264154]\n"
     ]
    }
   ],
   "source": [
    "print w_array[2]\n",
    "print w_array[2][0]\n",
    "with open('submission-2.txt', 'w') as res_file:\n",
    "    res_file.write(\" \".join([str(w_array[2][row][0]) for row in range(4)]))"
   ]
  },
  {
   "cell_type": "code",
   "execution_count": 188,
   "metadata": {},
   "outputs": [
    {
     "name": "stdout",
     "output_type": "stream",
     "text": [
      "4.36264153512 -1.29552586569 0.193336847022 -0.00823565117332"
     ]
    }
   ],
   "source": [
    "!cat submission-2.txt"
   ]
  },
  {
   "cell_type": "code",
   "execution_count": 189,
   "metadata": {},
   "outputs": [
    {
     "name": "stdout",
     "output_type": "stream",
     "text": [
      "6 4"
     ]
    }
   ],
   "source": [
    "!cat submission-1.txt"
   ]
  },
  {
   "cell_type": "code",
   "execution_count": null,
   "metadata": {},
   "outputs": [],
   "source": []
  }
 ],
 "metadata": {
  "kernelspec": {
   "display_name": "Python 2",
   "language": "python",
   "name": "python2"
  },
  "language_info": {
   "codemirror_mode": {
    "name": "ipython",
    "version": 2
   },
   "file_extension": ".py",
   "mimetype": "text/x-python",
   "name": "python",
   "nbconvert_exporter": "python",
   "pygments_lexer": "ipython2",
   "version": "2.7.8"
  }
 },
 "nbformat": 4,
 "nbformat_minor": 2
}
